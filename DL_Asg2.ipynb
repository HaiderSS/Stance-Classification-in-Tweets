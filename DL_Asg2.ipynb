{
 "cells": [
  {
   "cell_type": "code",
   "execution_count": 1,
   "metadata": {},
   "outputs": [],
   "source": [
    "import matplotlib.pyplot as plt\n",
    "%matplotlib inline\n",
    "import nltk                            # Cleaning the data\n",
    "from bs4 import BeautifulSoup\n",
    "from nltk.corpus import stopwords\n",
    "from nltk.tokenize import word_tokenize\n",
    "import re\n",
    "import os\n",
    "import pandas as pd\n",
    "import numpy as np\n",
    "\n",
    "from sklearn.metrics import confusion_matrix\n",
    "from sklearn import preprocessing\n",
    "from keras.preprocessing import sequence,text\n",
    "from keras.preprocessing.text import Tokenizer\n",
    "from keras.models import Sequential\n",
    "from keras.layers import Dense,Dropout,Embedding,LSTM,SpatialDropout1D,Bidirectional\n",
    "from keras.utils import to_categorical\n",
    "from tensorflow.python.client import device_lib \n",
    "from sklearn.model_selection import train_test_split\n",
    "from keras.preprocessing.sequence import pad_sequences\n",
    "from keras.layers import Bidirectional, GlobalMaxPool1D\n",
    "from tensorflow.keras.layers import Embedding, Dense, GRU, Dropout, Bidirectional, SpatialDropout1D\n",
    "\n",
    "import matplotlib.pyplot as plt\n",
    "%matplotlib inline"
   ]
  },
  {
   "cell_type": "code",
   "execution_count": 2,
   "metadata": {},
   "outputs": [],
   "source": [
    "os.environ['CUDA_VISIBLE_DEVICES'] = '1'"
   ]
  },
  {
   "cell_type": "code",
   "execution_count": 3,
   "metadata": {},
   "outputs": [
    {
     "name": "stdout",
     "output_type": "stream",
     "text": [
      "[name: \"/device:CPU:0\"\n",
      "device_type: \"CPU\"\n",
      "memory_limit: 268435456\n",
      "locality {\n",
      "}\n",
      "incarnation: 8175718901764728635\n",
      ", name: \"/device:XLA_CPU:0\"\n",
      "device_type: \"XLA_CPU\"\n",
      "memory_limit: 17179869184\n",
      "locality {\n",
      "}\n",
      "incarnation: 16509152034095555308\n",
      "physical_device_desc: \"device: XLA_CPU device\"\n",
      "]\n"
     ]
    }
   ],
   "source": [
    "print(device_lib.list_local_devices()) "
   ]
  },
  {
   "cell_type": "code",
   "execution_count": 4,
   "metadata": {},
   "outputs": [
    {
     "name": "stderr",
     "output_type": "stream",
     "text": [
      "[nltk_data] Downloading package punkt to\n",
      "[nltk_data]     C:\\Users\\rajau\\AppData\\Roaming\\nltk_data...\n",
      "[nltk_data]   Package punkt is already up-to-date!\n"
     ]
    },
    {
     "data": {
      "text/plain": [
       "True"
      ]
     },
     "execution_count": 4,
     "metadata": {},
     "output_type": "execute_result"
    }
   ],
   "source": [
    "nltk.download('punkt')"
   ]
  },
  {
   "cell_type": "markdown",
   "metadata": {},
   "source": [
    "### Usefull Functions"
   ]
  },
  {
   "cell_type": "code",
   "execution_count": 5,
   "metadata": {},
   "outputs": [],
   "source": [
    "# get train_test split of each target df\n",
    "\n",
    "def get_traintestsplit(df):\n",
    "    train_X = df['Tweet']\n",
    "    stance =  df['Stance']\n",
    "\n",
    "    return train_test_split( train_X, stance , test_size = 0.2, random_state = 42)"
   ]
  },
  {
   "cell_type": "code",
   "execution_count": 6,
   "metadata": {},
   "outputs": [],
   "source": [
    "# function to generate X and Y of test set\n",
    "\n",
    "def generate_XY(df):\n",
    "    X = df.iloc[:,0]\n",
    "    Y = df.iloc[:,2]\n",
    "    return X,Y"
   ]
  },
  {
   "cell_type": "code",
   "execution_count": 7,
   "metadata": {},
   "outputs": [],
   "source": [
    "# function to swap columns\n",
    "\n",
    "def swap_columns(df):\n",
    "    cols = list(df.columns)\n",
    "    a, b = cols.index('Target'), cols.index('Tweet')\n",
    "    cols[b], cols[a] = cols[a], cols[b]\n",
    "    df = df[cols]\n",
    "    return df"
   ]
  },
  {
   "cell_type": "code",
   "execution_count": 8,
   "metadata": {},
   "outputs": [],
   "source": [
    "# max length of the tweet to fix our padding\n",
    "\n",
    "def get_maxlength_tweet(df):\n",
    "    tweet_len=[]\n",
    "    for text in df['Tweet']:\n",
    "        word=word_tokenize(text)\n",
    "        l=len(word)\n",
    "        tweet_len.append(l)\n",
    "\n",
    "    return np.max(tweet_len)"
   ]
  },
  {
   "cell_type": "code",
   "execution_count": 9,
   "metadata": {},
   "outputs": [],
   "source": [
    "# Function to deal with embedding file\n",
    "\n",
    "def get_coef(word, *arr):\n",
    "    return word, np.asarray(arr, dtype='float32')\n",
    "    \n",
    "def get_emb_matrix(EMB_FILE, max_feature,emb_dimension, tokenizer):\n",
    "    # word vectors\n",
    "    emb_index = dict(get_coef(*x.rstrip().rsplit(' ')) for x in open(EMB_FILE, encoding='utf8'))\n",
    "    print('Found %s word vectors.' % len(emb_index))\n",
    "\n",
    "    # embedding matrix\n",
    "    word_index = tokenizer.word_index\n",
    "    num_words = min(max_feature, len(word_index) + 1)\n",
    "    all_emb = np.stack(emb_index.values()) #for random init\n",
    "    emb_matrix = np.random.normal(all_emb.mean(), all_emb.std(), (num_words, emb_dimension))\n",
    "    \n",
    "    for word, i in word_index.items():\n",
    "        if i >= max_feature:\n",
    "            continue\n",
    "        emb_vector = emb_index.get(word)\n",
    "        if emb_vector is not None:\n",
    "            emb_matrix[i] = emb_vector\n",
    "    max_feature = emb_matrix.shape[0]\n",
    "    return emb_matrix"
   ]
  },
  {
   "cell_type": "code",
   "execution_count": 10,
   "metadata": {},
   "outputs": [],
   "source": [
    "# Tokenize test data\n",
    "\n",
    "def tokenize_testdata(testdf, max_feature, tokenizer):\n",
    "    testdf = tokenizer.texts_to_sequences(testdf)\n",
    "\n",
    "    return testdf"
   ]
  },
  {
   "cell_type": "code",
   "execution_count": 11,
   "metadata": {},
   "outputs": [],
   "source": [
    "# Tokenize train data\n",
    "\n",
    "def tokenize_traindata(X_train, X_val, max_feature):\n",
    "    tokenizer = Tokenizer(num_words=max_feature)\n",
    "    tokenizer.fit_on_texts(list(X_train))\n",
    "    X_train = tokenizer.texts_to_sequences(X_train)\n",
    "    X_val = tokenizer.texts_to_sequences(X_val)\n",
    "    return X_train, X_val,tokenizer"
   ]
  },
  {
   "cell_type": "code",
   "execution_count": 12,
   "metadata": {},
   "outputs": [],
   "source": [
    "# Padding our input data to make a vector of consistent size\n",
    "\n",
    "def padding_traindata(X_train, X_val, max_word):\n",
    "    X_train = sequence.pad_sequences(X_train, maxlen=max_word)\n",
    "    X_val = sequence.pad_sequences(X_val, maxlen=max_word)\n",
    "    return X_train, X_val"
   ]
  },
  {
   "cell_type": "code",
   "execution_count": 13,
   "metadata": {},
   "outputs": [],
   "source": [
    "# Padding our test data to make a vector of consistent size\n",
    "\n",
    "def padding_testdata(testdf, max_word):\n",
    "    testdf = sequence.pad_sequences(testdf, maxlen=max_word)\n",
    "    \n",
    "    return testdf"
   ]
  },
  {
   "cell_type": "code",
   "execution_count": 14,
   "metadata": {},
   "outputs": [],
   "source": [
    "# Label encoding (Y) train Target variable \n",
    "\n",
    "def label_encoding_train(Y_train, Y_val): \n",
    "    le = preprocessing.LabelEncoder()\n",
    "    le.fit(Y_train)\n",
    "    Y_train = le.transform(Y_train)\n",
    "    Y_val = le.transform(Y_val)\n",
    "\n",
    "    Y_train = to_categorical(Y_train, dtype =\"uint8\") \n",
    "    Y_val = to_categorical(Y_val, dtype =\"uint8\") \n",
    "    return Y_train, Y_val, le"
   ]
  },
  {
   "cell_type": "code",
   "execution_count": 15,
   "metadata": {},
   "outputs": [],
   "source": [
    "# Label encoding (Y) test Target variable \n",
    "\n",
    "def label_encoding_test(Y_test, le): \n",
    "    Y_test = le.transform(Y_test) \n",
    "    \n",
    "    return Y_test"
   ]
  },
  {
   "cell_type": "markdown",
   "metadata": {},
   "source": [
    "### Data Handling"
   ]
  },
  {
   "cell_type": "code",
   "execution_count": 16,
   "metadata": {},
   "outputs": [],
   "source": [
    "trainData = pd.read_pickle('../Pickle_files/train_data.pkl')"
   ]
  },
  {
   "cell_type": "code",
   "execution_count": 17,
   "metadata": {},
   "outputs": [],
   "source": [
    "testData = pd.read_pickle('../Pickle_files/test_data.pkl')"
   ]
  },
  {
   "cell_type": "code",
   "execution_count": 18,
   "metadata": {},
   "outputs": [],
   "source": [
    "independentData = pd.read_pickle('../Pickle_files/indep_eval_data1.pkl')"
   ]
  },
  {
   "cell_type": "code",
   "execution_count": 19,
   "metadata": {},
   "outputs": [
    {
     "data": {
      "text/plain": [
       "array(['AGAINST', 'NONE', 'FAVOR'], dtype=object)"
      ]
     },
     "execution_count": 19,
     "metadata": {},
     "output_type": "execute_result"
    }
   ],
   "source": [
    "independentData.Stance.unique()"
   ]
  },
  {
   "cell_type": "code",
   "execution_count": 20,
   "metadata": {},
   "outputs": [
    {
     "data": {
      "text/plain": [
       "array(['AGAINST', 'FAVOR', 'NONE'], dtype=object)"
      ]
     },
     "execution_count": 20,
     "metadata": {},
     "output_type": "execute_result"
    }
   ],
   "source": [
    "testData.Stance.unique()"
   ]
  },
  {
   "cell_type": "code",
   "execution_count": 21,
   "metadata": {},
   "outputs": [
    {
     "name": "stdout",
     "output_type": "stream",
     "text": [
      "(2914, 3)\n",
      "(1956, 3)\n",
      "(52, 3)\n"
     ]
    }
   ],
   "source": [
    "print(trainData.shape)\n",
    "print(testData.shape)\n",
    "print(independentData.shape)"
   ]
  },
  {
   "cell_type": "code",
   "execution_count": 22,
   "metadata": {},
   "outputs": [
    {
     "data": {
      "text/plain": [
       "Hillary Clinton                     689\n",
       "Feminist Movement                   664\n",
       "Legalization of Abortion            653\n",
       "Atheism                             513\n",
       "Climate Change is a Real Concern    395\n",
       "Name: Target, dtype: int64"
      ]
     },
     "execution_count": 22,
     "metadata": {},
     "output_type": "execute_result"
    }
   ],
   "source": [
    "trainData.Target.value_counts()"
   ]
  },
  {
   "cell_type": "code",
   "execution_count": 23,
   "metadata": {},
   "outputs": [
    {
     "data": {
      "text/plain": [
       "Donald Trump                        707\n",
       "Hillary Clinton                     295\n",
       "Feminist Movement                   285\n",
       "Legalization of Abortion            280\n",
       "Atheism                             220\n",
       "Climate Change is a Real Concern    169\n",
       "Name: Target, dtype: int64"
      ]
     },
     "execution_count": 23,
     "metadata": {},
     "output_type": "execute_result"
    }
   ],
   "source": [
    "testData.Target.value_counts()"
   ]
  },
  {
   "cell_type": "code",
   "execution_count": 24,
   "metadata": {},
   "outputs": [
    {
     "data": {
      "text/plain": [
       "Hillary Clinton             13\n",
       "climate change              11\n",
       "legalization of Abortion    10\n",
       "feminist movement            9\n",
       "Atheism                      9\n",
       "Name: Target, dtype: int64"
      ]
     },
     "execution_count": 24,
     "metadata": {},
     "output_type": "execute_result"
    }
   ],
   "source": [
    "independentData.Target.value_counts()"
   ]
  },
  {
   "cell_type": "code",
   "execution_count": 25,
   "metadata": {},
   "outputs": [],
   "source": [
    "# # converting all target variables to lower\n",
    "\n",
    "# trainData.Target = trainData.Target.str.lower()\n",
    "# testData.Target = trainData.Target.str.lower()\n",
    "# independentData.Target = independentData.Target.str.lower()"
   ]
  },
  {
   "cell_type": "code",
   "execution_count": 26,
   "metadata": {},
   "outputs": [],
   "source": [
    "independentData = swap_columns(independentData)"
   ]
  },
  {
   "cell_type": "code",
   "execution_count": 27,
   "metadata": {},
   "outputs": [],
   "source": [
    "# splitting data into multiple dataframes based on target values (train data)\n",
    "\n",
    "hc_traindf =trainData[trainData['Target'] == 'Hillary Clinton']\n",
    "fm_traindf =trainData[trainData['Target'] == 'Feminist Movement']\n",
    "la_traindf =trainData[trainData['Target'] == 'Legalization of Abortion']\n",
    "at_traindf =trainData[trainData['Target'] == 'Atheism']\n",
    "cc_traindf =trainData[trainData['Target'] == 'Climate Change is a Real Concern']"
   ]
  },
  {
   "cell_type": "code",
   "execution_count": 28,
   "metadata": {},
   "outputs": [],
   "source": [
    "# splitting data into multiple dataframes based on target values (test data)\n",
    "\n",
    "hc_testdf =testData[testData['Target'] == 'Hillary Clinton']\n",
    "fm_testdf =testData[testData['Target'] == 'Feminist Movement']\n",
    "la_testdf =testData[testData['Target'] == 'Legalization of Abortion']\n",
    "at_testdf =testData[testData['Target'] == 'Atheism']\n",
    "cc_testdf =testData[testData['Target'] == 'Climate Change is a Real Concern']"
   ]
  },
  {
   "cell_type": "code",
   "execution_count": 29,
   "metadata": {},
   "outputs": [],
   "source": [
    "# splitting data into multiple dataframes based on target values (test data)\n",
    "\n",
    "hc_indepdf =independentData[independentData['Target'] == 'Hillary Clinton']\n",
    "fm_indepdf =independentData[independentData['Target'] == 'feminist movement']\n",
    "la_indepdf =independentData[independentData['Target'] == 'legalization of Abortion']\n",
    "at_indepdf =independentData[independentData['Target'] == 'Atheism']\n",
    "cc_indepdf =independentData[independentData['Target'] == 'climate change']"
   ]
  },
  {
   "cell_type": "code",
   "execution_count": 30,
   "metadata": {},
   "outputs": [],
   "source": [
    "# getting train test split values for each target df (train)\n",
    "\n",
    "X_train1, X_val1, Y_train1, Y_val1 = get_traintestsplit(hc_traindf)\n",
    "X_train2, X_val2, Y_train2, Y_val2 = get_traintestsplit(fm_traindf)\n",
    "X_train3, X_val3, Y_train3, Y_val3 = get_traintestsplit(la_traindf)\n",
    "X_train4, X_val4, Y_train4, Y_val4 = get_traintestsplit(at_traindf)\n",
    "X_train5, X_val5, Y_train5, Y_val5 = get_traintestsplit(cc_traindf)"
   ]
  },
  {
   "cell_type": "code",
   "execution_count": 31,
   "metadata": {},
   "outputs": [],
   "source": [
    "# generating X and Y of test set\n",
    "\n",
    "X_test1, Y_test1 = generate_XY(hc_testdf)\n",
    "X_test2, Y_test2 = generate_XY(fm_testdf)\n",
    "X_test3, Y_test3 = generate_XY(la_testdf)\n",
    "X_test4, Y_test4 = generate_XY(at_testdf)\n",
    "X_test5, Y_test5 = generate_XY(cc_testdf)"
   ]
  },
  {
   "cell_type": "code",
   "execution_count": 32,
   "metadata": {},
   "outputs": [
    {
     "data": {
      "text/plain": [
       "674    mtp meetthepress deleting email government rec...\n",
       "675    jdson andrewbroering andrewwhydoyoucareaboutwh...\n",
       "676    white male vote solidly gop black vote solidly...\n",
       "677    nyinvesting big banker bud need ratchet care l...\n",
       "678    gop believe gop leader congress wont fight oba...\n",
       "                             ...                        \n",
       "964    looking ward hearing economic agenda monday ju...\n",
       "965                 mataharikrishna loving draw contrast\n",
       "966    finneyk stand msnbc anymore hope maddow need h...\n",
       "967       create job time job outsourced monica lewinsky\n",
       "968    amazing want secure border legal process immig...\n",
       "Name: Tweet, Length: 295, dtype: object"
      ]
     },
     "execution_count": 32,
     "metadata": {},
     "output_type": "execute_result"
    }
   ],
   "source": [
    "X_test1"
   ]
  },
  {
   "cell_type": "code",
   "execution_count": 33,
   "metadata": {},
   "outputs": [],
   "source": [
    "# generating X and Y of independent set\n",
    "\n",
    "X_indp1, Y_indp1 = generate_XY(hc_indepdf)\n",
    "X_indp2, Y_indp2 = generate_XY(fm_indepdf)\n",
    "X_indp3, Y_indp3 = generate_XY(la_indepdf)\n",
    "X_indp4, Y_indp4 = generate_XY(at_indepdf)\n",
    "X_indp5, Y_indp5 = generate_XY(cc_indepdf)"
   ]
  },
  {
   "cell_type": "code",
   "execution_count": 34,
   "metadata": {},
   "outputs": [
    {
     "data": {
      "text/plain": [
       "0                      told tied russia realdonaldtrump\n",
       "1                        criminal came hillaryforprison\n",
       "2               trending isnât time taken questioning\n",
       "3                              trump take honestly make\n",
       "4     really bold send spy fly surveil mikepence deb...\n",
       "5                         passing day love stillwithher\n",
       "6     represents democratic party seeking kill middl...\n",
       "7     worth property took national park service paid...\n",
       "8              spending hour searching ive email prison\n",
       "9     running president care hillarysemails help tru...\n",
       "10    iâm standing itâs time make america great ...\n",
       "11    say st choice woman running reelection campaig...\n",
       "12                                             want win\n",
       "Name: Tweet, dtype: object"
      ]
     },
     "execution_count": 34,
     "metadata": {},
     "output_type": "execute_result"
    }
   ],
   "source": [
    "X_indp1"
   ]
  },
  {
   "cell_type": "code",
   "execution_count": 35,
   "metadata": {},
   "outputs": [],
   "source": [
    "# # max length of the review\n",
    "\n",
    "# max_tweet_len1 = get_maxlength_tweet(hc_df)\n",
    "# max_tweet_len2 = get_maxlength_tweet(fm_df)\n",
    "# max_tweet_len3 = get_maxlength_tweet(la_df)\n",
    "# max_tweet_len4 = get_maxlength_tweet(at_df)\n",
    "# max_tweet_len5 = get_maxlength_tweet(cc_df)"
   ]
  },
  {
   "cell_type": "code",
   "execution_count": 36,
   "metadata": {},
   "outputs": [],
   "source": [
    "# List of max features - Max words\n",
    "# [HC : 3313, LA : 3041, at : 2580, CC : 2327, FM: 3397]"
   ]
  },
  {
   "cell_type": "code",
   "execution_count": 37,
   "metadata": {},
   "outputs": [],
   "source": [
    "# get tokenized X_train and Y_train\n",
    "\n",
    "X_train1, X_val1, tok1 = tokenize_traindata(X_train1, X_val1, 3313)\n",
    "X_train2, X_val2, tok2 = tokenize_traindata(X_train2, X_val2, 3397)\n",
    "X_train3, X_val3, tok3 = tokenize_traindata(X_train3, X_val3, 3041)\n",
    "X_train4, X_val4, tok4 = tokenize_traindata(X_train4, X_val4, 2580)\n",
    "X_train5, X_val5, tok5 = tokenize_traindata(X_train5, X_val5, 2327)"
   ]
  },
  {
   "cell_type": "code",
   "execution_count": 38,
   "metadata": {},
   "outputs": [],
   "source": [
    "# get tokenized X_test and Y_test\n",
    "\n",
    "X_test1 = tokenize_testdata(X_test1, 3313, tok1)\n",
    "X_test2 = tokenize_testdata(X_test2, 3397, tok2)\n",
    "X_test3 = tokenize_testdata(X_test3, 3041, tok3)\n",
    "X_test4 = tokenize_testdata(X_test4, 2580, tok4)\n",
    "X_test5 = tokenize_testdata(X_test5, 2327, tok5)"
   ]
  },
  {
   "cell_type": "code",
   "execution_count": 39,
   "metadata": {},
   "outputs": [],
   "source": [
    "# get tokenized X_indp and Y_indp\n",
    "\n",
    "X_indp1 = tokenize_testdata(X_indp1, 3313, tok1)\n",
    "X_indp2 = tokenize_testdata(X_indp2, 3397, tok2)\n",
    "X_indp3 = tokenize_testdata(X_indp3, 3041, tok3)\n",
    "X_indp4 = tokenize_testdata(X_indp4, 2580, tok4)\n",
    "X_indp5 = tokenize_testdata(X_indp5, 2327, tok5)"
   ]
  },
  {
   "cell_type": "code",
   "execution_count": 40,
   "metadata": {},
   "outputs": [],
   "source": [
    "# padding our dataframes (train)\n",
    "\n",
    "X_train1, X_val1 = padding_traindata(X_train1, X_val1, 300)\n",
    "X_train2, X_val2 = padding_traindata(X_train2, X_val2, 300)\n",
    "X_train3, X_val3 = padding_traindata(X_train3, X_val3, 300)\n",
    "X_train4, X_val4 = padding_traindata(X_train4, X_val4, 300)\n",
    "X_train5, X_val5 = padding_traindata(X_train5, X_val5, 300)"
   ]
  },
  {
   "cell_type": "code",
   "execution_count": 41,
   "metadata": {},
   "outputs": [],
   "source": [
    "# padding our dataframes (test)\n",
    "\n",
    "X_test1 = padding_testdata(X_test1, 300)\n",
    "X_test2 = padding_testdata(X_test2, 300)\n",
    "X_test3 = padding_testdata(X_test3, 300)\n",
    "X_test4 = padding_testdata(X_test4, 300)\n",
    "X_test5 = padding_testdata(X_test5, 300)"
   ]
  },
  {
   "cell_type": "code",
   "execution_count": 42,
   "metadata": {},
   "outputs": [],
   "source": [
    "# padding our dataframes (independent)\n",
    "\n",
    "X_indp1 = padding_testdata(X_indp1, 300)\n",
    "X_indp2 = padding_testdata(X_indp2, 300)\n",
    "X_indp3 = padding_testdata(X_indp3, 300)\n",
    "X_indp4 = padding_testdata(X_indp4, 300)\n",
    "X_indp5 = padding_testdata(X_indp5, 300)"
   ]
  },
  {
   "cell_type": "code",
   "execution_count": 43,
   "metadata": {},
   "outputs": [],
   "source": [
    "# Label encoding our Y (Target) variable (train)\n",
    "\n",
    "Y_train1, Y_val1, le1 = label_encoding_train(Y_train1, Y_val1)\n",
    "Y_train2, Y_val2, le2 = label_encoding_train(Y_train2, Y_val2)\n",
    "Y_train3, Y_val3, le3 = label_encoding_train(Y_train3, Y_val3)\n",
    "Y_train4, Y_val4, le4 = label_encoding_train(Y_train4, Y_val4)\n",
    "Y_train5, Y_val5, le5 = label_encoding_train(Y_train5, Y_val5)"
   ]
  },
  {
   "cell_type": "code",
   "execution_count": 44,
   "metadata": {},
   "outputs": [],
   "source": [
    "# padding our dataframes (test)\n",
    "\n",
    "Y_test1 = label_encoding_test(Y_test1, le1)\n",
    "Y_test2 = label_encoding_test(Y_test2, le2)\n",
    "Y_test3 = label_encoding_test(Y_test3, le3)\n",
    "Y_test4 = label_encoding_test(Y_test4, le4)\n",
    "Y_test5 = label_encoding_test(Y_test5, le5)"
   ]
  },
  {
   "cell_type": "code",
   "execution_count": 45,
   "metadata": {},
   "outputs": [],
   "source": [
    "# padding our dataframes (test)\n",
    "\n",
    "Y_indp1 = label_encoding_test(Y_indp1, le1)\n",
    "Y_indp2 = label_encoding_test(Y_indp2, le2)\n",
    "Y_indp3 = label_encoding_test(Y_indp3, le3)\n",
    "Y_indp4 = label_encoding_test(Y_indp4, le4)\n",
    "Y_indp5 = label_encoding_test(Y_indp5, le5)"
   ]
  },
  {
   "cell_type": "code",
   "execution_count": 46,
   "metadata": {},
   "outputs": [
    {
     "name": "stdout",
     "output_type": "stream",
     "text": [
      "Found 400000 word vectors.\n"
     ]
    },
    {
     "name": "stderr",
     "output_type": "stream",
     "text": [
      "C:\\Users\\rajau\\anaconda3\\lib\\site-packages\\IPython\\core\\interactiveshell.py:3331: FutureWarning: arrays to stack must be passed as a \"sequence\" type such as list or tuple. Support for non-sequence iterables such as generators is deprecated as of NumPy 1.16 and will raise an error in the future.\n",
      "  exec(code_obj, self.user_global_ns, self.user_ns)\n"
     ]
    },
    {
     "name": "stdout",
     "output_type": "stream",
     "text": [
      "Found 400000 word vectors.\n",
      "Found 400000 word vectors.\n",
      "Found 400000 word vectors.\n",
      "Found 400000 word vectors.\n"
     ]
    }
   ],
   "source": [
    "# loading our embedding file and storing words in matrix\n",
    "\n",
    "EMB_FILE = '../Embeddings/glove.6B.300d.txt'\n",
    "emb_dimension = 300 #word vector dim\n",
    "emb_matrix1 = get_emb_matrix(EMB_FILE, 3313, emb_dimension, tok1)\n",
    "emb_matrix2 = get_emb_matrix(EMB_FILE, 3397, emb_dimension, tok2)\n",
    "emb_matrix3 = get_emb_matrix(EMB_FILE, 3041, emb_dimension, tok3)\n",
    "emb_matrix4 = get_emb_matrix(EMB_FILE, 2580, emb_dimension, tok4)\n",
    "emb_matrix5 = get_emb_matrix(EMB_FILE, 2327, emb_dimension, tok5)"
   ]
  },
  {
   "cell_type": "code",
   "execution_count": 47,
   "metadata": {},
   "outputs": [
    {
     "name": "stdout",
     "output_type": "stream",
     "text": [
      "(2308, 300) (2339, 300) (2125, 300) (1839, 300) (1717, 300)\n"
     ]
    }
   ],
   "source": [
    "print(emb_matrix1.shape,emb_matrix2.shape,emb_matrix3.shape,emb_matrix4.shape,emb_matrix5.shape)"
   ]
  },
  {
   "cell_type": "markdown",
   "metadata": {},
   "source": [
    "### LSTM Model"
   ]
  },
  {
   "cell_type": "code",
   "execution_count": null,
   "metadata": {},
   "outputs": [],
   "source": [
    "# Lets start our model building with a Single Layer LSTM and then we can built on it\n",
    "\n",
    "# The reason why we are starting with LSTM is because we know its a very usefull model in NLP since it stores \n",
    "# the conext which is very important in our case"
   ]
  },
  {
   "cell_type": "code",
   "execution_count": null,
   "metadata": {},
   "outputs": [],
   "source": [
    "class StanceClassifierLSTM:\n",
    "    \n",
    "    def __init__(self, max_feature, num_classes):\n",
    "        self.model = Sequential()\n",
    "        self.max_feature = max_feature\n",
    "        print(self.max_feature)\n",
    "        self.num_classes = num_classes\n",
    "        self.y_pred = 0\n",
    "        self.history = 0\n",
    "        \n",
    "    def built_model(self, layers, emb_dimension, input_length1, emb_matrix):\n",
    "        self.model.add(Embedding(self.max_feature, emb_dimension, input_length=input_length1,weights=emb_matrix,trainable=True))\n",
    "        \n",
    "        \n",
    "        self.model.add(SpatialDropout1D(0.25))\n",
    "        self.model.add((LSTM(64,return_sequences=False)))\n",
    "        self.model.add(Dropout(0.5))\n",
    "        \n",
    "        self.model.add(Dense(3, activation='softmax'))\n",
    "        self.model.compile(loss='categorical_crossentropy', optimizer='adam', metrics=['accuracy'])\n",
    "        \n",
    "    def get_modelsummary(self):\n",
    "        self.model.summary()\n",
    "        \n",
    "    def fit_model(self, X_train, Y_train, X_val, Y_val, epochs, batch_size):\n",
    "        self.history =  self.model.fit(X_train, Y_train, validation_data=(X_val, Y_val),epochs=epochs,\n",
    "                             batch_size=batch_size, verbose=1)\n",
    "        return self.history\n",
    "    \n",
    "    def predict_model(self, X_test):\n",
    "        self.y_pred = self.model.predict(X_test)\n",
    "        return self.y_pred\n",
    "    \n",
    "    def evaluate_model(self, X_test, Y_test, le):\n",
    "        Y_test = to_categorical(Y_test)\n",
    "        print(\"result\")\n",
    "        print(self.model.evaluate(X_test,Y_test))       \n",
    "        \n",
    "    def display_confusionmatrix(self, Ytest):\n",
    "        self.y_test_predicted  = []\n",
    "        for i in self.y_pred:\n",
    "            self.y_test_predicted.append(np.argmax(i))\n",
    "        print(confusion_matrix(Ytest.tolist(), self.y_test_predicted, labels =[0,1,2]))    \n",
    "        \n",
    "    def plot_results(self):\n",
    "        # summarize history for accuracy\n",
    "        plt.plot(self.history.history['accuracy'])\n",
    "        plt.plot(self.history.history['val_accuracy'])\n",
    "        plt.title('model accuracy')\n",
    "        plt.ylabel('accuracy')\n",
    "        plt.xlabel('epoch')\n",
    "        plt.legend(['train', 'test'], loc='upper left')\n",
    "        plt.show()\n",
    "        # summarize history for loss\n",
    "        plt.plot(self.history.history['loss'])\n",
    "        plt.plot(history.history['val_loss'])\n",
    "        plt.title('model loss')\n",
    "        plt.ylabel('loss')\n",
    "        plt.xlabel('epoch')\n",
    "        plt.legend(['train', 'test'], loc='upper left')\n",
    "        plt.show()\n",
    "    "
   ]
  },
  {
   "cell_type": "code",
   "execution_count": null,
   "metadata": {},
   "outputs": [],
   "source": [
    "print(\"******************** HC *******************\")\n",
    "HC = StanceClassifierLSTM(emb_matrix1.shape[0], 3)\n",
    "HC.built_model(1, emb_dimension, X_train1.shape[1], [emb_matrix1])\n",
    "HC.get_modelsummary()\n",
    "history = HC.fit_model(X_train1, Y_train1, X_val1, Y_val1, 10, 32)\n",
    "pred = HC.predict_model(X_test1)\n",
    "HC.evaluate_model(X_test1, Y_test1, le1)\n",
    "HC.display_confusionmatrix(Y_test1)\n",
    "HC.plot_results()\n",
    "\n",
    "print(\"******************** FM *******************\")\n",
    "FM = StanceClassifierLSTM(emb_matrix2.shape[0], 3)\n",
    "FM.built_model(1, emb_dimension, X_train2.shape[1], [emb_matrix2])\n",
    "FM.get_modelsummary()\n",
    "FM.fit_model(X_train2, Y_train2, X_val2, Y_val2, 10, 32)\n",
    "pred = FM.predict_model(X_test2)\n",
    "FM.evaluate_model(X_test2, Y_test2, le2)\n",
    "FM.display_confusionmatrix(Y_test2)\n",
    "FM.plot_results()\n",
    "\n",
    "print(\"******************** LA *******************\")\n",
    "LA = StanceClassifierLSTM(emb_matrix3.shape[0], 3)\n",
    "LA.built_model(1, emb_dimension, X_train3.shape[1], [emb_matrix3])\n",
    "LA.get_modelsummary()\n",
    "LA.fit_model(X_train3, Y_train3, X_val3, Y_val3, 10, 33)\n",
    "pred = LA.predict_model(X_test3)\n",
    "LA.evaluate_model(X_test3, Y_test3, le3)\n",
    "LA.display_confusionmatrix(Y_test3)\n",
    "LA.plot_results()\n",
    "\n",
    "\n",
    "print(\"******************** AT *******************\")\n",
    "AT = StanceClassifierLSTM(emb_matrix4.shape[0], 3)\n",
    "AT.built_model(1, emb_dimension, X_train4.shape[1], [emb_matrix4])\n",
    "AT.get_modelsummary()\n",
    "AT.fit_model(X_train4, Y_train4, X_val4, Y_val4, 10, 33)\n",
    "pred = AT.predict_model(X_test4)\n",
    "AT.evaluate_model(X_test4, Y_test4, le4)\n",
    "AT.display_confusionmatrix(Y_test4)\n",
    "AT.plot_results()\n",
    "\n",
    "\n",
    "print(\"******************** CC *******************\")\n",
    "CC = StanceClassifierLSTM(emb_matrix5.shape[0], 3)\n",
    "CC.built_model(1, emb_dimension, X_train5.shape[1], [emb_matrix5])\n",
    "CC.get_modelsummary()\n",
    "CC.fit_model(X_train5, Y_train5, X_val5, Y_val5, 10, 33)\n",
    "pred = CC.predict_model(X_test5)\n",
    "CC.evaluate_model(X_test5, Y_test5, le5)\n",
    "CC.display_confusionmatrix(Y_test5)\n",
    "CC.plot_results()"
   ]
  },
  {
   "cell_type": "code",
   "execution_count": null,
   "metadata": {},
   "outputs": [],
   "source": [
    "history.history"
   ]
  },
  {
   "cell_type": "code",
   "execution_count": null,
   "metadata": {},
   "outputs": [],
   "source": []
  },
  {
   "cell_type": "markdown",
   "metadata": {},
   "source": [
    "### BI-Directional LSTM"
   ]
  },
  {
   "cell_type": "code",
   "execution_count": null,
   "metadata": {},
   "outputs": [],
   "source": [
    "class StanceClassifierBiLSTM:\n",
    "    \n",
    "    def __init__(self, max_feature, num_classes):\n",
    "        self.model = Sequential()\n",
    "        self.max_feature = max_feature\n",
    "        print(self.max_feature)\n",
    "        self.num_classes = num_classes\n",
    "        self.y_pred = 0\n",
    "        self.history = 0\n",
    "        \n",
    "    def built_model(self, layers, emb_dimension, input_length1, emb_matrix):\n",
    "        \n",
    "        self.model.add(Embedding(self.max_feature, emb_dimension, input_length=input_length1,weights=emb_matrix,trainable=True))\n",
    "        \n",
    "        self.model.add(Bidirectional(LSTM(100, return_sequences=True, dropout=0.25, recurrent_dropout=0.1)))\n",
    "        self.model.add(GlobalMaxPool1D())\n",
    "        self.model.add(Dense(64, activation=\"relu\"))\n",
    "        self.model.add(Dropout(0.25))\n",
    "        \n",
    "#         self.model.add(Bidirectional(LSTM(100, return_sequences=True, dropout=0.25, recurrent_dropout=0.1)))\n",
    "#         self.model.add(GlobalMaxPool1D())\n",
    "#         self.model.add(Dense(64, activation=\"relu\"))\n",
    "#         self.model.add(Dropout(0.5))\n",
    "        \n",
    "#         self.model.add(SpatialDropout1D(0.5))\n",
    "#         self.model.add(Bidirectional(LSTM(64,return_sequences=False)))\n",
    "#         #self.model.add((LSTM(128,return_sequences=False)))\n",
    "#         self.model.add(Dense(64, activation=\"relu\"))\n",
    "#         self.model.add(Dropout(0.5))\n",
    "        \n",
    "        \n",
    "        self.model.add(Dense(3, activation='softmax'))\n",
    "        self.model.compile(loss='categorical_crossentropy', optimizer='adam', metrics=['accuracy'])\n",
    "        \n",
    "    def get_modelsummary(self):\n",
    "        self.model.summary()\n",
    "        \n",
    "    def fit_model(self, X_train, Y_train, X_val, Y_val, epochs, batch_size):\n",
    "        self.history =  self.model.fit(X_train, Y_train, validation_data=(X_val, Y_val),epochs=epochs,\n",
    "                             batch_size=batch_size, verbose=1)\n",
    "        return self.history\n",
    "    \n",
    "    def predict_model(self, X_test):\n",
    "        self.y_pred = self.model.predict(X_test)\n",
    "        return self.y_pred\n",
    "    \n",
    "    def evaluate_model(self, X_test, Y_test, le):\n",
    "        Y_test = to_categorical(Y_test)\n",
    "        print(\"result\")\n",
    "        print(self.model.evaluate(X_test,Y_test))       \n",
    "        \n",
    "    def display_confusionmatrix(self, Ytest):\n",
    "        self.y_test_predicted  = []\n",
    "        for i in self.y_pred:\n",
    "            self.y_test_predicted.append(np.argmax(i))\n",
    "        print(confusion_matrix(Ytest.tolist(), self.y_test_predicted, labels =[0,1,2]))    \n",
    "        \n",
    "    def plot_results(self):\n",
    "        # summarize history for accuracy\n",
    "        plt.plot(self.history.history['accuracy'])\n",
    "        plt.plot(self.history.history['val_accuracy'])\n",
    "        plt.title('model accuracy')\n",
    "        plt.ylabel('accuracy')\n",
    "        plt.xlabel('epoch')\n",
    "        plt.legend(['train', 'test'], loc='upper left')\n",
    "        plt.show()\n",
    "        # summarize history for loss\n",
    "        plt.plot(self.history.history['loss'])\n",
    "        plt.plot(history.history['val_loss'])\n",
    "        plt.title('model loss')\n",
    "        plt.ylabel('loss')\n",
    "        plt.xlabel('epoch')\n",
    "        plt.legend(['train', 'test'], loc='upper left')\n",
    "        plt.show()\n",
    "    "
   ]
  },
  {
   "cell_type": "code",
   "execution_count": null,
   "metadata": {},
   "outputs": [],
   "source": [
    "\n",
    "print(\"******************** HC *******************\")\n",
    "HC = StanceClassifierBiLSTM(emb_matrix1.shape[0], 3)\n",
    "HC.built_model(1, emb_dimension, X_train1.shape[1], [emb_matrix1])\n",
    "HC.get_modelsummary()\n",
    "history = HC.fit_model(X_train1, Y_train1, X_val1, Y_val1, 8, 32)\n",
    "pred = HC.predict_model(X_test1)\n",
    "HC.evaluate_model(X_test1, Y_test1, le1)\n",
    "HC.display_confusionmatrix(Y_test1)\n",
    "HC.plot_results()\n",
    "\n",
    "print(\"******************** FM *******************\")\n",
    "FM = StanceClassifierBiLSTM(emb_matrix2.shape[0], 3)\n",
    "FM.built_model(1, emb_dimension, X_train2.shape[1], [emb_matrix2])\n",
    "FM.get_modelsummary()\n",
    "FM.fit_model(X_train2, Y_train2, X_val2, Y_val2, 8, 32)\n",
    "pred = FM.predict_model(X_test2)\n",
    "FM.evaluate_model(X_test2, Y_test2, le2)\n",
    "FM.display_confusionmatrix(Y_test2)\n",
    "FM.plot_results()\n",
    "\n",
    "print(\"******************** LA *******************\")\n",
    "LA = StanceClassifierBiLSTM(emb_matrix3.shape[0], 3)\n",
    "LA.built_model(1, emb_dimension, X_train3.shape[1], [emb_matrix3])\n",
    "LA.get_modelsummary()\n",
    "LA.fit_model(X_train3, Y_train3, X_val3, Y_val3, 8, 33)\n",
    "pred = LA.predict_model(X_test3)\n",
    "LA.evaluate_model(X_test3, Y_test3, le3)\n",
    "LA.display_confusionmatrix(Y_test3)\n",
    "LA.plot_results()\n",
    "\n",
    "\n",
    "print(\"******************** AT *******************\")\n",
    "AT = StanceClassifierBiLSTM(emb_matrix4.shape[0], 3)\n",
    "AT.built_model(1, emb_dimension, X_train4.shape[1], [emb_matrix4])\n",
    "AT.get_modelsummary()\n",
    "AT.fit_model(X_train4, Y_train4, X_val4, Y_val4, 8, 33)\n",
    "pred = AT.predict_model(X_test4)\n",
    "AT.evaluate_model(X_test4, Y_test4, le4)\n",
    "AT.display_confusionmatrix(Y_test4)\n",
    "AT.plot_results()\n",
    "\n",
    "\n",
    "print(\"******************** CC *******************\")\n",
    "CC = StanceClassifierBiLSTM(emb_matrix5.shape[0], 3)\n",
    "CC.built_model(1, emb_dimension, X_train5.shape[1], [emb_matrix5])\n",
    "CC.get_modelsummary()\n",
    "CC.fit_model(X_train5, Y_train5, X_val5, Y_val5, 8, 33)\n",
    "pred = CC.predict_model(X_test5)\n",
    "CC.evaluate_model(X_test5, Y_test5, le5)\n",
    "CC.display_confusionmatrix(Y_test5)\n",
    "CC.plot_results()"
   ]
  },
  {
   "cell_type": "code",
   "execution_count": null,
   "metadata": {},
   "outputs": [],
   "source": []
  },
  {
   "cell_type": "markdown",
   "metadata": {},
   "source": [
    "### Bidirectional GRU Model (BI-GRU)"
   ]
  },
  {
   "cell_type": "code",
   "execution_count": 48,
   "metadata": {},
   "outputs": [],
   "source": [
    "class StanceClassifierGRU:\n",
    "    \n",
    "    def __init__(self, max_feature, num_classes):\n",
    "        self.model = Sequential()\n",
    "        self.max_feature = max_feature\n",
    "        print(self.max_feature)\n",
    "        self.num_classes = num_classes\n",
    "        self.y_pred = 0\n",
    "        self.history = 0\n",
    "        \n",
    "    def built_model(self, layers, emb_dimension, input_length1, emb_matrix):\n",
    "        \n",
    "        self.model.add(Embedding(self.max_feature, emb_dimension, input_length=input_length1,weights=emb_matrix,trainable=True))\n",
    "        \n",
    "        self.model.add(SpatialDropout1D(0.5))\n",
    "        self.model.add(Bidirectional(GRU(128)))\n",
    "        self.model.add(Dense(128, activation='relu'))\n",
    "        self.model.add(Dropout(0.2))\n",
    "        \n",
    "        self.model.add(Dense(3, activation='softmax'))\n",
    "        self.model.compile(loss='categorical_crossentropy', optimizer='adam', metrics=['accuracy'])\n",
    "        \n",
    "    def get_modelsummary(self):\n",
    "        self.model.summary()\n",
    "        \n",
    "    def fit_model(self, X_train, Y_train, X_val, Y_val, epochs, batch_size):\n",
    "        self.history =  self.model.fit(X_train, Y_train, validation_data=(X_val, Y_val),epochs=epochs,\n",
    "                             batch_size=batch_size, verbose=1)\n",
    "        return self.history\n",
    "    \n",
    "    def predict_model(self, X_test):\n",
    "        self.y_pred = self.model.predict(X_test)\n",
    "        return self.y_pred\n",
    "    \n",
    "    def evaluate_model(self, X_test, Y_test, le):\n",
    "        Y_test = to_categorical(Y_test)\n",
    "        print(\"result\")\n",
    "        print(self.model.evaluate(X_test,Y_test))       \n",
    "        \n",
    "    def display_confusionmatrix(self, Ytest):\n",
    "        self.y_test_predicted  = []\n",
    "        for i in self.y_pred:\n",
    "            self.y_test_predicted.append(np.argmax(i))\n",
    "        print(confusion_matrix(Ytest.tolist(), self.y_test_predicted, labels =[0,1,2]))    \n",
    "        \n",
    "    def plot_results(self):\n",
    "        # summarize history for accuracy\n",
    "        plt.plot(self.history.history['accuracy'])\n",
    "        plt.plot(self.history.history['val_accuracy'])\n",
    "        plt.title('model accuracy')\n",
    "        plt.ylabel('accuracy')\n",
    "        plt.xlabel('epoch')\n",
    "        plt.legend(['train', 'test'], loc='upper left')\n",
    "        plt.show()\n",
    "        # summarize history for loss\n",
    "        plt.plot(self.history.history['loss'])\n",
    "        plt.plot(history.history['val_loss'])\n",
    "        plt.title('model loss')\n",
    "        plt.ylabel('loss')\n",
    "        plt.xlabel('epoch')\n",
    "        plt.legend(['train', 'test'], loc='upper left')\n",
    "        plt.show()\n",
    "    "
   ]
  },
  {
   "cell_type": "code",
   "execution_count": null,
   "metadata": {},
   "outputs": [
    {
     "name": "stdout",
     "output_type": "stream",
     "text": [
      "******************** HC *******************\n",
      "2308\n",
      "Model: \"sequential\"\n",
      "_________________________________________________________________\n",
      "Layer (type)                 Output Shape              Param #   \n",
      "=================================================================\n",
      "embedding (Embedding)        (None, 300, 300)          692400    \n",
      "_________________________________________________________________\n",
      "spatial_dropout1d (SpatialDr (None, 300, 300)          0         \n",
      "_________________________________________________________________\n",
      "bidirectional (Bidirectional (None, 256)               330240    \n",
      "_________________________________________________________________\n",
      "dense (Dense)                (None, 128)               32896     \n",
      "_________________________________________________________________\n",
      "dropout (Dropout)            (None, 128)               0         \n",
      "_________________________________________________________________\n",
      "dense_1 (Dense)              (None, 3)                 387       \n",
      "=================================================================\n",
      "Total params: 1,055,923\n",
      "Trainable params: 1,055,923\n",
      "Non-trainable params: 0\n",
      "_________________________________________________________________\n",
      "Epoch 1/10\n",
      "18/18 [==============================] - 5s 280ms/step - loss: 1.0132 - accuracy: 0.5263 - val_loss: 0.9779 - val_accuracy: 0.5652\n",
      "Epoch 2/10\n",
      "18/18 [==============================] - 4s 244ms/step - loss: 0.9058 - accuracy: 0.5880 - val_loss: 0.9203 - val_accuracy: 0.5580\n",
      "Epoch 3/10\n",
      "18/18 [==============================] - 5s 259ms/step - loss: 0.8315 - accuracy: 0.6334 - val_loss: 0.9113 - val_accuracy: 0.5435\n",
      "Epoch 4/10\n",
      "18/18 [==============================] - 5s 256ms/step - loss: 0.7702 - accuracy: 0.6588 - val_loss: 0.9422 - val_accuracy: 0.5000\n",
      "Epoch 5/10\n",
      "18/18 [==============================] - 5s 253ms/step - loss: 0.6186 - accuracy: 0.7368 - val_loss: 1.0407 - val_accuracy: 0.5290\n",
      "Epoch 6/10\n",
      "18/18 [==============================] - 5s 262ms/step - loss: 0.5681 - accuracy: 0.7877 - val_loss: 0.9940 - val_accuracy: 0.6159\n",
      "Epoch 7/10\n",
      "18/18 [==============================] - 4s 242ms/step - loss: 0.4188 - accuracy: 0.8457 - val_loss: 0.9968 - val_accuracy: 0.5797\n",
      "Epoch 8/10\n",
      "18/18 [==============================] - 5s 260ms/step - loss: 0.3646 - accuracy: 0.8530 - val_loss: 1.0849 - val_accuracy: 0.6087\n",
      "Epoch 9/10\n",
      "18/18 [==============================] - 5s 259ms/step - loss: 0.2623 - accuracy: 0.9002 - val_loss: 1.1201 - val_accuracy: 0.6014\n",
      "Epoch 10/10\n",
      "18/18 [==============================] - 5s 254ms/step - loss: 0.1736 - accuracy: 0.9437 - val_loss: 1.2090 - val_accuracy: 0.5870\n",
      "result\n",
      "10/10 [==============================] - 0s 47ms/step - loss: 1.3361 - accuracy: 0.5763\n",
      "[1.33607017993927, 0.5762711763381958]\n",
      "[[113  10  49]\n",
      " [ 17  11  17]\n",
      " [ 30   2  46]]\n"
     ]
    },
    {
     "data": {
      "image/png": "[encoded data removed]",
      "text/plain": [
       "<Figure size 432x288 with 1 Axes>"
      ]
     },
     "metadata": {
      "needs_background": "light"
     },
     "output_type": "display_data"
    },
    {
     "data": {
      "image/png": "[encoded data removed]",
      "text/plain": [
       "<Figure size 432x288 with 1 Axes>"
      ]
     },
     "metadata": {
      "needs_background": "light"
     },
     "output_type": "display_data"
    },
    {
     "name": "stdout",
     "output_type": "stream",
     "text": [
      "******************** FM *******************\n",
      "2339\n",
      "Model: \"sequential_1\"\n",
      "_________________________________________________________________\n",
      "Layer (type)                 Output Shape              Param #   \n",
      "=================================================================\n",
      "embedding_1 (Embedding)      (None, 300, 300)          701700    \n",
      "_________________________________________________________________\n",
      "spatial_dropout1d_1 (Spatial (None, 300, 300)          0         \n",
      "_________________________________________________________________\n",
      "bidirectional_1 (Bidirection (None, 256)               330240    \n",
      "_________________________________________________________________\n",
      "dense_2 (Dense)              (None, 128)               32896     \n",
      "_________________________________________________________________\n",
      "dropout_1 (Dropout)          (None, 128)               0         \n",
      "_________________________________________________________________\n",
      "dense_3 (Dense)              (None, 3)                 387       \n",
      "=================================================================\n",
      "Total params: 1,065,223\n",
      "Trainable params: 1,065,223\n",
      "Non-trainable params: 0\n",
      "_________________________________________________________________\n",
      "Epoch 1/10\n",
      "17/17 [==============================] - 5s 278ms/step - loss: 1.0947 - accuracy: 0.4294 - val_loss: 1.0213 - val_accuracy: 0.4436\n",
      "Epoch 2/10\n",
      "17/17 [==============================] - 4s 247ms/step - loss: 0.9881 - accuracy: 0.5047 - val_loss: 0.9912 - val_accuracy: 0.5038\n",
      "Epoch 3/10\n",
      "17/17 [==============================] - 4s 258ms/step - loss: 0.9221 - accuracy: 0.5706 - val_loss: 0.9280 - val_accuracy: 0.5564\n",
      "Epoch 4/10\n",
      "17/17 [==============================] - 4s 251ms/step - loss: 0.8121 - accuracy: 0.6290 - val_loss: 0.8595 - val_accuracy: 0.6165\n",
      "Epoch 5/10\n",
      "17/17 [==============================] - 4s 255ms/step - loss: 0.7314 - accuracy: 0.6987 - val_loss: 0.8995 - val_accuracy: 0.5940\n",
      "Epoch 6/10\n",
      "17/17 [==============================] - 4s 257ms/step - loss: 0.5348 - accuracy: 0.7966 - val_loss: 0.9422 - val_accuracy: 0.5940\n",
      "Epoch 7/10\n",
      "17/17 [==============================] - 4s 261ms/step - loss: 0.4487 - accuracy: 0.8362 - val_loss: 0.9371 - val_accuracy: 0.5489\n",
      "Epoch 8/10\n",
      "17/17 [==============================] - 4s 255ms/step - loss: 0.3501 - accuracy: 0.8625 - val_loss: 1.0825 - val_accuracy: 0.5789\n",
      "Epoch 9/10\n",
      "17/17 [==============================] - 5s 277ms/step - loss: 0.3028 - accuracy: 0.8927 - val_loss: 1.4888 - val_accuracy: 0.5639\n",
      "Epoch 10/10\n",
      "17/17 [==============================] - 4s 261ms/step - loss: 0.2281 - accuracy: 0.9134 - val_loss: 1.4582 - val_accuracy: 0.5714\n",
      "result\n",
      "9/9 [==============================] - 0s 52ms/step - loss: 1.5514 - accuracy: 0.4702\n",
      "[1.5513800382614136, 0.47017544507980347]\n",
      "[[77 91 15]\n",
      " [13 43  2]\n",
      " [11 19 14]]\n"
     ]
    },
    {
     "data": {
      "image/png": "[encoded data removed]",
      "text/plain": [
       "<Figure size 432x288 with 1 Axes>"
      ]
     },
     "metadata": {
      "needs_background": "light"
     },
     "output_type": "display_data"
    },
    {
     "data": {
      "image/png": "[encoded data removed]",
      "text/plain": [
       "<Figure size 432x288 with 1 Axes>"
      ]
     },
     "metadata": {
      "needs_background": "light"
     },
     "output_type": "display_data"
    },
    {
     "name": "stdout",
     "output_type": "stream",
     "text": [
      "******************** LA *******************\n",
      "2125\n",
      "Model: \"sequential_2\"\n",
      "_________________________________________________________________\n",
      "Layer (type)                 Output Shape              Param #   \n",
      "=================================================================\n",
      "embedding_2 (Embedding)      (None, 300, 300)          637500    \n",
      "_________________________________________________________________\n",
      "spatial_dropout1d_2 (Spatial (None, 300, 300)          0         \n",
      "_________________________________________________________________\n",
      "bidirectional_2 (Bidirection (None, 256)               330240    \n",
      "_________________________________________________________________\n",
      "dense_4 (Dense)              (None, 128)               32896     \n",
      "_________________________________________________________________\n",
      "dropout_2 (Dropout)          (None, 128)               0         \n",
      "_________________________________________________________________\n",
      "dense_5 (Dense)              (None, 3)                 387       \n",
      "=================================================================\n",
      "Total params: 1,001,023\n",
      "Trainable params: 1,001,023\n",
      "Non-trainable params: 0\n",
      "_________________________________________________________________\n",
      "Epoch 1/10\n",
      "16/16 [==============================] - 15s 939ms/step - loss: 1.0622 - accuracy: 0.4789 - val_loss: 0.9219 - val_accuracy: 0.6260\n",
      "Epoch 2/10\n",
      "16/16 [==============================] - 14s 900ms/step - loss: 0.9230 - accuracy: 0.5709 - val_loss: 0.7865 - val_accuracy: 0.6870\n",
      "Epoch 3/10\n",
      "16/16 [==============================] - 14s 901ms/step - loss: 0.7980 - accuracy: 0.6360 - val_loss: 0.7156 - val_accuracy: 0.7023\n",
      "Epoch 4/10\n",
      "16/16 [==============================] - 15s 918ms/step - loss: 0.7103 - accuracy: 0.6954 - val_loss: 0.6368 - val_accuracy: 0.7405\n",
      "Epoch 5/10\n",
      "16/16 [==============================] - 14s 888ms/step - loss: 0.6022 - accuracy: 0.7395 - val_loss: 0.6313 - val_accuracy: 0.7328\n",
      "Epoch 6/10\n",
      "16/16 [==============================] - 15s 912ms/step - loss: 0.4440 - accuracy: 0.8218 - val_loss: 0.6273 - val_accuracy: 0.7405\n",
      "Epoch 7/10\n",
      "16/16 [==============================] - 15s 907ms/step - loss: 0.3804 - accuracy: 0.8525 - val_loss: 0.7403 - val_accuracy: 0.7023\n",
      "Epoch 8/10\n",
      "16/16 [==============================] - 14s 886ms/step - loss: 0.2893 - accuracy: 0.8870 - val_loss: 0.7290 - val_accuracy: 0.7099\n",
      "Epoch 9/10\n",
      "16/16 [==============================] - 14s 879ms/step - loss: 0.2004 - accuracy: 0.9330 - val_loss: 0.9336 - val_accuracy: 0.6794\n",
      "Epoch 10/10\n",
      " 5/16 [========>.....................] - ETA: 8s - loss: 0.1875 - accuracy: 0.9212"
     ]
    }
   ],
   "source": [
    "print(\"******************** HC *******************\")\n",
    "HC = StanceClassifierGRU(emb_matrix1.shape[0], 3)\n",
    "HC.built_model(1, emb_dimension, X_train1.shape[1], [emb_matrix1])\n",
    "HC.get_modelsummary()\n",
    "history = HC.fit_model(X_train1, Y_train1, X_val1, Y_val1, 10, 32)\n",
    "pred = HC.predict_model(X_test1)\n",
    "HC.evaluate_model(X_test1, Y_test1, le1)\n",
    "HC.display_confusionmatrix(Y_test1)\n",
    "HC.plot_results()\n",
    "\n",
    "print(\"******************** FM *******************\")\n",
    "FM = StanceClassifierGRU(emb_matrix2.shape[0], 3)\n",
    "FM.built_model(1, emb_dimension, X_train2.shape[1], [emb_matrix2])\n",
    "FM.get_modelsummary()\n",
    "FM.fit_model(X_train2, Y_train2, X_val2, Y_val2, 10, 32)\n",
    "pred = FM.predict_model(X_test2)\n",
    "FM.evaluate_model(X_test2, Y_test2, le2)\n",
    "FM.display_confusionmatrix(Y_test2)\n",
    "FM.plot_results()\n",
    "\n",
    "print(\"******************** LA *******************\")\n",
    "LA = StanceClassifierGRU(emb_matrix3.shape[0], 3)\n",
    "LA.built_model(1, emb_dimension, X_train3.shape[1], [emb_matrix3])\n",
    "LA.get_modelsummary()\n",
    "LA.fit_model(X_train3, Y_train3, X_val3, Y_val3, 10, 33)\n",
    "pred = LA.predict_model(X_test3)\n",
    "LA.evaluate_model(X_test3, Y_test3, le3)\n",
    "LA.display_confusionmatrix(Y_test3)\n",
    "LA.plot_results()\n",
    "\n",
    "print(\"******************** AT *******************\")\n",
    "AT = StanceClassifierGRU(emb_matrix4.shape[0], 3)\n",
    "AT.built_model(1, emb_dimension, X_train4.shape[1], [emb_matrix4])\n",
    "AT.get_modelsummary()\n",
    "AT.fit_model(X_train4, Y_train4, X_val4, Y_val4, 10, 33)\n",
    "pred = AT.predict_model(X_test4)\n",
    "AT.evaluate_model(X_test4, Y_test4, le4)\n",
    "AT.display_confusionmatrix(Y_test4)\n",
    "AT.plot_results()\n",
    "\n",
    "print(\"******************** CC *******************\")\n",
    "CC = StanceClassifierGRU(emb_matrix5.shape[0], 3)\n",
    "CC.built_model(1, emb_dimension, X_train5.shape[1], [emb_matrix5])\n",
    "CC.get_modelsummary()\n",
    "CC.fit_model(X_train5, Y_train5, X_val5, Y_val5, 10, 33)\n",
    "pred = CC.predict_model(X_test5)\n",
    "CC.evaluate_model(X_test5, Y_test5, le5)\n",
    "CC.display_confusionmatrix(Y_test5)\n",
    "CC.plot_results()"
   ]
  },
  {
   "cell_type": "code",
   "execution_count": null,
   "metadata": {},
   "outputs": [],
   "source": []
  },
  {
   "cell_type": "code",
   "execution_count": null,
   "metadata": {},
   "outputs": [],
   "source": []
  },
  {
   "cell_type": "markdown",
   "metadata": {},
   "source": [
    "## Independent Evaluation"
   ]
  },
  {
   "cell_type": "code",
   "execution_count": null,
   "metadata": {},
   "outputs": [],
   "source": []
  },
  {
   "cell_type": "code",
   "execution_count": null,
   "metadata": {},
   "outputs": [],
   "source": [
    "print(\"******************** HC *******************\")\n",
    "\n",
    "pred = HC.predict_model(X_indp1)\n",
    "HC.evaluate_model(X_indp1, Y_indp1, le1)\n",
    "HC.display_confusionmatrix(Y_indp1)\n",
    "HC.plot_results()\n",
    "\n",
    "print(\"******************** FM *******************\")\n",
    "\n",
    "pred = FM.predict_model(X_indp2)\n",
    "FM.evaluate_model(X_indp2, Y_indp2, le2)\n",
    "FM.display_confusionmatrix(Y_indp2)\n",
    "FM.plot_results()\n",
    "\n",
    "print(\"******************** LA *******************\")\n",
    "\n",
    "pred = LA.predict_model(X_indp3)\n",
    "LA.evaluate_model(X_indp3, Y_indp3, le3)\n",
    "LA.display_confusionmatrix(Y_indp3)\n",
    "LA.plot_results()\n",
    "\n",
    "print(\"******************** AT *******************\")\n",
    "\n",
    "pred = AT.predict_model(X_indp4)\n",
    "AT.evaluate_model(X_indp4, Y_indp4, le4)\n",
    "AT.display_confusionmatrix(Y_indp4)\n",
    "AT.plot_results()\n",
    "\n",
    "print(\"******************** CC *******************\")\n",
    "\n",
    "pred = CC.predict_model(X_indp5)\n",
    "CC.evaluate_model(X_indp5, Y_indp5, le5)\n",
    "CC.display_confusionmatrix(Y_indp5)\n",
    "CC.plot_results()"
   ]
  },
  {
   "cell_type": "code",
   "execution_count": null,
   "metadata": {},
   "outputs": [],
   "source": []
  },
  {
   "cell_type": "code",
   "execution_count": null,
   "metadata": {},
   "outputs": [],
   "source": []
  },
  {
   "cell_type": "code",
   "execution_count": null,
   "metadata": {},
   "outputs": [],
   "source": []
  }
 ],
 "metadata": {
  "kernelspec": {
   "display_name": "Python 3",
   "language": "python",
   "name": "python3"
  },
  "language_info": {
   "codemirror_mode": {
    "name": "ipython",
    "version": 3
   },
   "file_extension": ".py",
   "mimetype": "text/x-python",
   "name": "python",
   "nbconvert_exporter": "python",
   "pygments_lexer": "ipython3",
   "version": "3.7.6"
  }
 },
 "nbformat": 4,
 "nbformat_minor": 4
}
