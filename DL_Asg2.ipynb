{
 "cells": [
  {
   "cell_type": "code",
   "execution_count": 44,
   "metadata": {},
   "outputs": [],
   "source": [
    "import matplotlib.pyplot as plt\n",
    "%matplotlib inline\n",
    "import nltk                            # Cleaning the data\n",
    "from bs4 import BeautifulSoup\n",
    "from nltk.corpus import stopwords\n",
    "from nltk.tokenize import word_tokenize\n",
    "import re\n",
    "import os\n",
    "import pandas as pd\n",
    "import numpy as np\n",
    "\n",
    "from sklearn.metrics import confusion_matrix\n",
    "from sklearn import preprocessing\n",
    "from keras.preprocessing import sequence,text\n",
    "from keras.preprocessing.text import Tokenizer\n",
    "from keras.models import Sequential\n",
    "from keras.layers import Dense,Dropout,Embedding,LSTM,SpatialDropout1D,Bidirectional\n",
    "from keras.utils import to_categorical\n",
    "from tensorflow.python.client import device_lib \n",
    "from sklearn.model_selection import train_test_split\n",
    "from keras.preprocessing.sequence import pad_sequences\n",
    "\n",
    "import matplotlib.pyplot as plt\n",
    "%matplotlib inline"
   ]
  },
  {
   "cell_type": "code",
   "execution_count": 2,
   "metadata": {},
   "outputs": [],
   "source": [
    "os.environ['CUDA_VISIBLE_DEVICES'] = '1'"
   ]
  },
  {
   "cell_type": "code",
   "execution_count": 3,
   "metadata": {},
   "outputs": [
    {
     "name": "stdout",
     "output_type": "stream",
     "text": [
      "[name: \"/device:CPU:0\"\n",
      "device_type: \"CPU\"\n",
      "memory_limit: 268435456\n",
      "locality {\n",
      "}\n",
      "incarnation: 4750119656406060866\n",
      ", name: \"/device:XLA_CPU:0\"\n",
      "device_type: \"XLA_CPU\"\n",
      "memory_limit: 17179869184\n",
      "locality {\n",
      "}\n",
      "incarnation: 15053656813958955999\n",
      "physical_device_desc: \"device: XLA_CPU device\"\n",
      "]\n"
     ]
    }
   ],
   "source": [
    "print(device_lib.list_local_devices()) "
   ]
  },
  {
   "cell_type": "code",
   "execution_count": 4,
   "metadata": {},
   "outputs": [
    {
     "name": "stderr",
     "output_type": "stream",
     "text": [
      "[nltk_data] Downloading package punkt to\n",
      "[nltk_data]     /Users/syedhaider/nltk_data...\n",
      "[nltk_data]   Package punkt is already up-to-date!\n"
     ]
    },
    {
     "data": {
      "text/plain": [
       "True"
      ]
     },
     "execution_count": 4,
     "metadata": {},
     "output_type": "execute_result"
    }
   ],
   "source": [
    "nltk.download('punkt')"
   ]
  },
  {
   "cell_type": "markdown",
   "metadata": {},
   "source": [
    "### Usefull Functions"
   ]
  },
  {
   "cell_type": "code",
   "execution_count": 5,
   "metadata": {},
   "outputs": [],
   "source": [
    "# get train_test split of each target df\n",
    "\n",
    "def get_traintestsplit(df):\n",
    "    train_X = df['Tweet']\n",
    "    stance =  df['Stance']\n",
    "\n",
    "    return train_test_split( train_X, stance , test_size = 0.2, random_state = 42)"
   ]
  },
  {
   "cell_type": "code",
   "execution_count": 6,
   "metadata": {},
   "outputs": [],
   "source": [
    "# function to generate X and Y of test set\n",
    "\n",
    "def generate_XY(df):\n",
    "    X = df.iloc[:,0]\n",
    "    Y = df.iloc[:,2]\n",
    "    return X,Y"
   ]
  },
  {
   "cell_type": "code",
   "execution_count": 7,
   "metadata": {},
   "outputs": [],
   "source": [
    "# max length of the tweet to fix our padding\n",
    "\n",
    "def get_maxlength_tweet(df):\n",
    "    tweet_len=[]\n",
    "    for text in df['Tweet']:\n",
    "        word=word_tokenize(text)\n",
    "        l=len(word)\n",
    "        tweet_len.append(l)\n",
    "\n",
    "    return np.max(tweet_len)"
   ]
  },
  {
   "cell_type": "code",
   "execution_count": 36,
   "metadata": {},
   "outputs": [],
   "source": [
    "# Function to deal with embedding file\n",
    "\n",
    "def get_coef(word, *arr):\n",
    "    return word, np.asarray(arr, dtype='float32')\n",
    "    \n",
    "def get_emb_matrix(EMB_FILE, max_feature,emb_dimension, tokenizer):\n",
    "    # word vectors\n",
    "    emb_index = dict(get_coef(*x.rstrip().rsplit(' ')) for x in open(EMB_FILE, encoding='utf8'))\n",
    "    print('Found %s word vectors.' % len(emb_index))\n",
    "\n",
    "    # embedding matrix\n",
    "    word_index = tokenizer.word_index\n",
    "    num_words = min(max_feature, len(word_index) + 1)\n",
    "    all_emb = np.stack(emb_index.values()) #for random init\n",
    "    emb_matrix = np.random.normal(all_emb.mean(), all_emb.std(), (num_words, emb_dimension))\n",
    "    \n",
    "    for word, i in word_index.items():\n",
    "        if i >= max_feature:\n",
    "            continue\n",
    "        emb_vector = emb_index.get(word)\n",
    "        if emb_vector is not None:\n",
    "            emb_matrix[i] = emb_vector\n",
    "    max_feature = emb_matrix.shape[0]\n",
    "    return emb_matrix"
   ]
  },
  {
   "cell_type": "code",
   "execution_count": 9,
   "metadata": {},
   "outputs": [],
   "source": [
    "# Tokenize test data\n",
    "\n",
    "def tokenize_testdata(testdf, max_feature, tokenizer):\n",
    "    testdf = tokenizer.texts_to_sequences(testdf)\n",
    "\n",
    "    return testdf"
   ]
  },
  {
   "cell_type": "code",
   "execution_count": 10,
   "metadata": {},
   "outputs": [],
   "source": [
    "# Tokenize train data\n",
    "\n",
    "def tokenize_traindata(X_train, X_val, max_feature):\n",
    "    tokenizer = Tokenizer(num_words=max_feature)\n",
    "    tokenizer.fit_on_texts(list(X_train))\n",
    "    X_train = tokenizer.texts_to_sequences(X_train)\n",
    "    X_val = tokenizer.texts_to_sequences(X_val)\n",
    "    return X_train, X_val,tokenizer"
   ]
  },
  {
   "cell_type": "code",
   "execution_count": 11,
   "metadata": {},
   "outputs": [],
   "source": [
    "# Padding our input data to make a vector of consistent size\n",
    "\n",
    "def padding_traindata(X_train, X_val, max_word):\n",
    "    X_train = sequence.pad_sequences(X_train, maxlen=max_word)\n",
    "    X_val = sequence.pad_sequences(X_val, maxlen=max_word)\n",
    "    return X_train, X_val"
   ]
  },
  {
   "cell_type": "code",
   "execution_count": 12,
   "metadata": {},
   "outputs": [],
   "source": [
    "# Padding our test data to make a vector of consistent size\n",
    "\n",
    "def padding_testdata(testdf, max_word):\n",
    "    testdf = sequence.pad_sequences(testdf, maxlen=max_word)\n",
    "    \n",
    "    return testdf"
   ]
  },
  {
   "cell_type": "code",
   "execution_count": 13,
   "metadata": {},
   "outputs": [],
   "source": [
    "# Label encoding (Y) train Target variable \n",
    "\n",
    "def label_encoding_train(Y_train, Y_val): \n",
    "    le = preprocessing.LabelEncoder()\n",
    "    le.fit(Y_train)\n",
    "    Y_train = le.transform(Y_train)\n",
    "    Y_val = le.transform(Y_val)\n",
    "\n",
    "    Y_train = to_categorical(Y_train, dtype =\"uint8\") \n",
    "    Y_val = to_categorical(Y_val, dtype =\"uint8\") \n",
    "    return Y_train, Y_val, le"
   ]
  },
  {
   "cell_type": "code",
   "execution_count": 14,
   "metadata": {},
   "outputs": [],
   "source": [
    "# Label encoding (Y) test Target variable \n",
    "\n",
    "def label_encoding_test(Y_test, le): \n",
    "    Y_test = le.transform(Y_test) \n",
    "    \n",
    "    return Y_test"
   ]
  },
  {
   "cell_type": "markdown",
   "metadata": {},
   "source": [
    "### Data Handling"
   ]
  },
  {
   "cell_type": "code",
   "execution_count": 15,
   "metadata": {},
   "outputs": [],
   "source": [
    "trainData = pd.read_pickle('../Pickle files/train_data.pkl')"
   ]
  },
  {
   "cell_type": "code",
   "execution_count": 16,
   "metadata": {},
   "outputs": [],
   "source": [
    "testData = pd.read_pickle('../Pickle files/test_data.pkl')"
   ]
  },
  {
   "cell_type": "code",
   "execution_count": 17,
   "metadata": {},
   "outputs": [
    {
     "name": "stdout",
     "output_type": "stream",
     "text": [
      "(2914, 3)\n",
      "(1956, 3)\n"
     ]
    }
   ],
   "source": [
    "print(trainData.shape)\n",
    "print(testData.shape)"
   ]
  },
  {
   "cell_type": "code",
   "execution_count": 18,
   "metadata": {},
   "outputs": [
    {
     "data": {
      "text/plain": [
       "Hillary Clinton                     689\n",
       "Feminist Movement                   664\n",
       "Legalization of Abortion            653\n",
       "Atheism                             513\n",
       "Climate Change is a Real Concern    395\n",
       "Name: Target, dtype: int64"
      ]
     },
     "execution_count": 18,
     "metadata": {},
     "output_type": "execute_result"
    }
   ],
   "source": [
    "trainData.Target.value_counts()"
   ]
  },
  {
   "cell_type": "code",
   "execution_count": 19,
   "metadata": {},
   "outputs": [
    {
     "data": {
      "text/plain": [
       "Donald Trump                        707\n",
       "Hillary Clinton                     295\n",
       "Feminist Movement                   285\n",
       "Legalization of Abortion            280\n",
       "Atheism                             220\n",
       "Climate Change is a Real Concern    169\n",
       "Name: Target, dtype: int64"
      ]
     },
     "execution_count": 19,
     "metadata": {},
     "output_type": "execute_result"
    }
   ],
   "source": [
    "testData.Target.value_counts()"
   ]
  },
  {
   "cell_type": "code",
   "execution_count": 20,
   "metadata": {},
   "outputs": [],
   "source": [
    "# splitting data into multiple dataframes based on target values (train data)\n",
    "\n",
    "hc_traindf =trainData[trainData['Target'] == 'Hillary Clinton']\n",
    "fm_traindf =trainData[trainData['Target'] == 'Feminist Movement']\n",
    "la_traindf =trainData[trainData['Target'] == 'Legalization of Abortion']\n",
    "at_traindf =trainData[trainData['Target'] == 'Atheism']\n",
    "cc_traindf =trainData[trainData['Target'] == 'Climate Change is a Real Concern']"
   ]
  },
  {
   "cell_type": "code",
   "execution_count": 21,
   "metadata": {},
   "outputs": [],
   "source": [
    "# splitting data into multiple dataframes based on target values (test data)\n",
    "\n",
    "hc_testdf =testData[testData['Target'] == 'Hillary Clinton']\n",
    "fm_testdf =testData[testData['Target'] == 'Feminist Movement']\n",
    "la_testdf =testData[testData['Target'] == 'Legalization of Abortion']\n",
    "at_testdf =testData[testData['Target'] == 'Atheism']\n",
    "cc_testdf =testData[testData['Target'] == 'Climate Change is a Real Concern']"
   ]
  },
  {
   "cell_type": "code",
   "execution_count": 22,
   "metadata": {},
   "outputs": [],
   "source": [
    "# getting train test split values for each target df (train)\n",
    "\n",
    "X_train1, X_val1, Y_train1, Y_val1 = get_traintestsplit(hc_traindf)\n",
    "X_train2, X_val2, Y_train2, Y_val2 = get_traintestsplit(fm_traindf)\n",
    "X_train3, X_val3, Y_train3, Y_val3 = get_traintestsplit(la_traindf)\n",
    "X_train4, X_val4, Y_train4, Y_val4 = get_traintestsplit(at_traindf)\n",
    "X_train5, X_val5, Y_train5, Y_val5 = get_traintestsplit(cc_traindf)"
   ]
  },
  {
   "cell_type": "code",
   "execution_count": 23,
   "metadata": {},
   "outputs": [],
   "source": [
    "# generating X and Y of test set\n",
    "\n",
    "X_test1, Y_test1 = generate_XY(hc_testdf)\n",
    "X_test2, Y_test2 = generate_XY(fm_testdf)\n",
    "X_test3, Y_test3 = generate_XY(la_testdf)\n",
    "X_test4, Y_test4 = generate_XY(at_testdf)\n",
    "X_test5, Y_test5 = generate_XY(cc_testdf)"
   ]
  },
  {
   "cell_type": "code",
   "execution_count": 26,
   "metadata": {},
   "outputs": [],
   "source": [
    "# # max length of the review\n",
    "\n",
    "# max_tweet_len1 = get_maxlength_tweet(hc_df)\n",
    "# max_tweet_len2 = get_maxlength_tweet(fm_df)\n",
    "# max_tweet_len3 = get_maxlength_tweet(la_df)\n",
    "# max_tweet_len4 = get_maxlength_tweet(at_df)\n",
    "# max_tweet_len5 = get_maxlength_tweet(cc_df)"
   ]
  },
  {
   "cell_type": "code",
   "execution_count": 27,
   "metadata": {},
   "outputs": [],
   "source": [
    "# List of max features - Max words\n",
    "# [HC : 3313, LA : 3041, at : 2580, CC : 2327, FM: 3397]"
   ]
  },
  {
   "cell_type": "code",
   "execution_count": 28,
   "metadata": {},
   "outputs": [],
   "source": [
    "# get tokenized X_train and Y_train\n",
    "\n",
    "X_train1, X_val1, tok1 = tokenize_traindata(X_train1, X_val1, 3313)\n",
    "X_train2, X_val2, tok2 = tokenize_traindata(X_train2, X_val2, 3397)\n",
    "X_train3, X_val3, tok3 = tokenize_traindata(X_train3, X_val3, 3041)\n",
    "X_train4, X_val4, tok4 = tokenize_traindata(X_train4, X_val4, 2580)\n",
    "X_train5, X_val5, tok5 = tokenize_traindata(X_train5, X_val5, 2327)"
   ]
  },
  {
   "cell_type": "code",
   "execution_count": 29,
   "metadata": {},
   "outputs": [],
   "source": [
    "# get tokenized X_test and Y_test\n",
    "\n",
    "X_test1 = tokenize_testdata(X_test1, 3313, tok1)\n",
    "X_test2 = tokenize_testdata(X_test2, 3397, tok2)\n",
    "X_test3 = tokenize_testdata(X_test3, 3041, tok3)\n",
    "X_test4 = tokenize_testdata(X_test4, 2580, tok4)\n",
    "X_test5 = tokenize_testdata(X_test5, 2327, tok5)"
   ]
  },
  {
   "cell_type": "code",
   "execution_count": 30,
   "metadata": {},
   "outputs": [],
   "source": [
    "# padding our dataframes (train)\n",
    "\n",
    "X_train1, X_val1 = padding_traindata(X_train1, X_val1, 300)\n",
    "X_train2, X_val2 = padding_traindata(X_train2, X_val2, 300)\n",
    "X_train3, X_val3 = padding_traindata(X_train3, X_val3, 300)\n",
    "X_train4, X_val4 = padding_traindata(X_train4, X_val4, 300)\n",
    "X_train5, X_val5 = padding_traindata(X_train5, X_val5, 300)"
   ]
  },
  {
   "cell_type": "code",
   "execution_count": 31,
   "metadata": {},
   "outputs": [],
   "source": [
    "# padding our dataframes (test)\n",
    "\n",
    "X_test1 = padding_testdata(X_test1, 300)\n",
    "X_test2 = padding_testdata(X_test2, 300)\n",
    "X_test3 = padding_testdata(X_test3, 300)\n",
    "X_test4 = padding_testdata(X_test4, 300)\n",
    "X_test5 = padding_testdata(X_test5, 300)"
   ]
  },
  {
   "cell_type": "code",
   "execution_count": 32,
   "metadata": {},
   "outputs": [],
   "source": [
    "# Label encoding our Y (Target) variable (train)\n",
    "\n",
    "Y_train1, Y_val1, le1 = label_encoding_train(Y_train1, Y_val1)\n",
    "Y_train2, Y_val2, le2 = label_encoding_train(Y_train2, Y_val2)\n",
    "Y_train3, Y_val3, le3 = label_encoding_train(Y_train3, Y_val3)\n",
    "Y_train4, Y_val4, le4 = label_encoding_train(Y_train4, Y_val4)\n",
    "Y_train5, Y_val5, le5 = label_encoding_train(Y_train5, Y_val5)"
   ]
  },
  {
   "cell_type": "code",
   "execution_count": 33,
   "metadata": {},
   "outputs": [],
   "source": [
    "# padding our dataframes (test)\n",
    "\n",
    "Y_test1 = label_encoding_test(Y_test1, le1)\n",
    "Y_test2 = label_encoding_test(Y_test2, le2)\n",
    "Y_test3 = label_encoding_test(Y_test3, le3)\n",
    "Y_test4 = label_encoding_test(Y_test4, le4)\n",
    "Y_test5 = label_encoding_test(Y_test5, le5)"
   ]
  },
  {
   "cell_type": "code",
   "execution_count": 34,
   "metadata": {},
   "outputs": [
    {
     "data": {
      "text/plain": [
       "array(['AGAINST', 'FAVOR', 'NONE'], dtype=object)"
      ]
     },
     "execution_count": 34,
     "metadata": {},
     "output_type": "execute_result"
    }
   ],
   "source": [
    "le5.classes_"
   ]
  },
  {
   "cell_type": "code",
   "execution_count": 53,
   "metadata": {},
   "outputs": [
    {
     "name": "stdout",
     "output_type": "stream",
     "text": [
      "Found 400000 word vectors.\n",
      "Found 400000 word vectors.\n",
      "Found 400000 word vectors.\n",
      "Found 400000 word vectors.\n",
      "Found 400000 word vectors.\n"
     ]
    }
   ],
   "source": [
    "# loading our embedding file and storing words in matrix\n",
    "\n",
    "EMB_FILE = '../Embeddings/glove.6B.300d.txt'\n",
    "emb_dimension = 300 #word vector dim\n",
    "emb_matrix1 = get_emb_matrix(EMB_FILE, 3313, emb_dimension, tok1)\n",
    "emb_matrix2 = get_emb_matrix(EMB_FILE, 3397, emb_dimension, tok2)\n",
    "emb_matrix3 = get_emb_matrix(EMB_FILE, 3041, emb_dimension, tok3)\n",
    "emb_matrix4 = get_emb_matrix(EMB_FILE, 2580, emb_dimension, tok4)\n",
    "emb_matrix5 = get_emb_matrix(EMB_FILE, 2327, emb_dimension, tok5)"
   ]
  },
  {
   "cell_type": "code",
   "execution_count": 65,
   "metadata": {},
   "outputs": [
    {
     "name": "stdout",
     "output_type": "stream",
     "text": [
      "(2291, 300) (2323, 300) (2106, 300) (1827, 300) (1710, 300)\n"
     ]
    }
   ],
   "source": [
    "print(emb_matrix1.shape,emb_matrix2.shape,emb_matrix3.shape,emb_matrix4.shape,emb_matrix5.shape)"
   ]
  },
  {
   "cell_type": "code",
   "execution_count": null,
   "metadata": {},
   "outputs": [],
   "source": [
    "max_feature"
   ]
  },
  {
   "cell_type": "markdown",
   "metadata": {},
   "source": [
    "### Model Building"
   ]
  },
  {
   "cell_type": "code",
   "execution_count": null,
   "metadata": {},
   "outputs": [],
   "source": [
    "# Lets start our model building with a Single Layer LSTM and then we can built on it\n",
    "\n",
    "# The reason why we are starting with LSTM is because we know its a very usefull model in NLP since it stores \n",
    "# the conext which is very important in our case"
   ]
  },
  {
   "cell_type": "code",
   "execution_count": 109,
   "metadata": {},
   "outputs": [],
   "source": [
    "class StanceClassifierLSTM:\n",
    "    \n",
    "    def __init__(self, max_feature, num_classes):\n",
    "        self.model = Sequential()\n",
    "        self.max_feature = max_feature\n",
    "        print(self.max_feature)\n",
    "        self.num_classes = num_classes\n",
    "        self.y_pred = 0\n",
    "        self.history = 0\n",
    "        \n",
    "    def built_model(self, layers, emb_dimension, input_length1, emb_matrix):\n",
    "        self.model.add(Embedding(self.max_feature, emb_dimension, input_length=input_length1,weights=emb_matrix,trainable=True))\n",
    "        self.model.add(SpatialDropout1D(0.25))\n",
    "        # model.add(Bidirectional(LSTM(128,return_sequences=True)))\n",
    "        self.model.add((LSTM(64,return_sequences=False)))\n",
    "        self.model.add(Dropout(0.5))\n",
    "        self.model.add(Dense(3, activation='softmax'))\n",
    "        self.model.compile(loss='categorical_crossentropy', optimizer='adam', metrics=['accuracy'])\n",
    "        \n",
    "    def get_modelsummary(self):\n",
    "        self.model.summary()\n",
    "        \n",
    "    def fit_model(self, X_train, Y_train, X_val, Y_val, epochs, batch_size):\n",
    "        self.history =  self.model.fit(X_train, Y_train, validation_data=(X_val, Y_val),epochs=epochs,\n",
    "                             batch_size=batch_size, verbose=1)\n",
    "        return self.history\n",
    "    \n",
    "    def predict_model(self, X_test):\n",
    "        self.y_pred = self.model.predict(X_test)\n",
    "        return self.y_pred\n",
    "    \n",
    "    def evaluate_model(self, X_test, Y_test, le):\n",
    "        Y_test = to_categorical(Y_test)\n",
    "        print(\"result\")\n",
    "        print(self.model.evaluate(X_test,Y_test))       \n",
    "        \n",
    "    def display_confusionmatrix(self, Ytest):\n",
    "        self.y_test_predicted  = []\n",
    "        for i in self.y_pred:\n",
    "            self.y_test_predicted.append(np.argmax(i))\n",
    "        print(confusion_matrix(Ytest.tolist(), self.y_test_predicted, labels =[0,1,2]))    \n",
    "        \n",
    "    def plot_results(self):\n",
    "        # summarize history for accuracy\n",
    "        plt.plot(self.history.history['accuracy'])\n",
    "        plt.plot(self.history.history['val_accuracy'])\n",
    "        plt.title('model accuracy')\n",
    "        plt.ylabel('accuracy')\n",
    "        plt.xlabel('epoch')\n",
    "        plt.legend(['train', 'test'], loc='upper left')\n",
    "        plt.show()\n",
    "        # summarize history for loss\n",
    "        plt.plot(self.history.history['loss'])\n",
    "        plt.plot(history.history['val_loss'])\n",
    "        plt.title('model loss')\n",
    "        plt.ylabel('loss')\n",
    "        plt.xlabel('epoch')\n",
    "        plt.legend(['train', 'test'], loc='upper left')\n",
    "        plt.show()\n",
    "    "
   ]
  },
  {
   "cell_type": "code",
   "execution_count": 108,
   "metadata": {},
   "outputs": [
    {
     "name": "stdout",
     "output_type": "stream",
     "text": [
      "2291\n",
      "Model: \"sequential_36\"\n",
      "_________________________________________________________________\n",
      "Layer (type)                 Output Shape              Param #   \n",
      "=================================================================\n",
      "embedding_36 (Embedding)     (None, 300, 300)          687300    \n",
      "_________________________________________________________________\n",
      "spatial_dropout1d_32 (Spatia (None, 300, 300)          0         \n",
      "_________________________________________________________________\n",
      "lstm_32 (LSTM)               (None, 32)                42624     \n",
      "_________________________________________________________________\n",
      "dropout_32 (Dropout)         (None, 32)                0         \n",
      "_________________________________________________________________\n",
      "dropout_33 (Dropout)         (None, 32)                0         \n",
      "_________________________________________________________________\n",
      "dense_32 (Dense)             (None, 3)                 99        \n",
      "=================================================================\n",
      "Total params: 730,023\n",
      "Trainable params: 730,023\n",
      "Non-trainable params: 0\n",
      "_________________________________________________________________\n",
      "Epoch 1/10\n",
      "18/18 [==============================] - 3s 183ms/step - loss: 1.2553 - accuracy: 0.3993 - val_loss: 1.0087 - val_accuracy: 0.5507\n",
      "Epoch 2/10\n",
      "18/18 [==============================] - 3s 162ms/step - loss: 1.1455 - accuracy: 0.4138 - val_loss: 0.9971 - val_accuracy: 0.5507\n",
      "Epoch 3/10\n",
      "18/18 [==============================] - 3s 140ms/step - loss: 1.1568 - accuracy: 0.4501 - val_loss: 0.9898 - val_accuracy: 0.5507\n",
      "Epoch 4/10\n",
      "18/18 [==============================] - 2s 135ms/step - loss: 1.0733 - accuracy: 0.4918 - val_loss: 0.9862 - val_accuracy: 0.5507\n",
      "Epoch 5/10\n",
      "18/18 [==============================] - 3s 139ms/step - loss: 1.0450 - accuracy: 0.5045 - val_loss: 0.9837 - val_accuracy: 0.5507\n",
      "Epoch 6/10\n",
      "18/18 [==============================] - 2s 134ms/step - loss: 1.0614 - accuracy: 0.5100 - val_loss: 0.9779 - val_accuracy: 0.5507\n",
      "Epoch 7/10\n",
      "18/18 [==============================] - 3s 180ms/step - loss: 1.0084 - accuracy: 0.5227 - val_loss: 0.9704 - val_accuracy: 0.5507\n",
      "Epoch 8/10\n",
      "18/18 [==============================] - 2s 137ms/step - loss: 1.0125 - accuracy: 0.5463 - val_loss: 0.9663 - val_accuracy: 0.5507\n",
      "Epoch 9/10\n",
      "18/18 [==============================] - 3s 148ms/step - loss: 0.9961 - accuracy: 0.5263 - val_loss: 0.9637 - val_accuracy: 0.5507\n",
      "Epoch 10/10\n",
      "18/18 [==============================] - 3s 142ms/step - loss: 0.9787 - accuracy: 0.5535 - val_loss: 0.9583 - val_accuracy: 0.5507\n",
      "result\n",
      "10/10 [==============================] - 0s 29ms/step - loss: 0.9234 - accuracy: 0.5831\n",
      "[0.9234426617622375, 0.5830508470535278]\n",
      "[[172   0   0]\n",
      " [ 45   0   0]\n",
      " [ 78   0   0]]\n"
     ]
    },
    {
     "data": {
      "image/png": "[encoded data removed]",
      "text/plain": [
       "<Figure size 432x288 with 1 Axes>"
      ]
     },
     "metadata": {
      "needs_background": "light"
     },
     "output_type": "display_data"
    },
    {
     "data": {
      "image/png": "[encoded data removed]",
      "text/plain": [
       "<Figure size 432x288 with 1 Axes>"
      ]
     },
     "metadata": {
      "needs_background": "light"
     },
     "output_type": "display_data"
    }
   ],
   "source": [
    "ST = StanceClassifierLSTM(emb_matrix1.shape[0], 3)\n",
    "ST.built_model(1, emb_dimension, X_train1.shape[1], [emb_matrix1])\n",
    "ST.get_modelsummary()\n",
    "history = ST.fit_model(X_train1, Y_train1, X_val1, Y_val1, 10, 32)\n",
    "pred = ST.predict_model(X_test1)\n",
    "ST.evaluate_model(X_test1, Y_test1, le1)\n",
    "ST.display_confusionmatrix(Y_test1)\n",
    "ST.plot_results()"
   ]
  },
  {
   "cell_type": "code",
   "execution_count": 101,
   "metadata": {},
   "outputs": [
    {
     "data": {
      "text/plain": [
       "{'loss': [1.0246778726577759],\n",
       " 'accuracy': [0.5372051000595093],\n",
       " 'val_loss': [1.0005351305007935],\n",
       " 'val_accuracy': [0.5507246255874634]}"
      ]
     },
     "execution_count": 101,
     "metadata": {},
     "output_type": "execute_result"
    }
   ],
   "source": [
    "history.history"
   ]
  },
  {
   "cell_type": "code",
   "execution_count": 73,
   "metadata": {},
   "outputs": [
    {
     "name": "stdout",
     "output_type": "stream",
     "text": [
      "2323\n",
      "Model: \"sequential_22\"\n",
      "_________________________________________________________________\n",
      "Layer (type)                 Output Shape              Param #   \n",
      "=================================================================\n",
      "embedding_22 (Embedding)     (None, 300, 300)          696900    \n",
      "_________________________________________________________________\n",
      "spatial_dropout1d_18 (Spatia (None, 300, 300)          0         \n",
      "_________________________________________________________________\n",
      "bidirectional_18 (Bidirectio (None, 128)               186880    \n",
      "_________________________________________________________________\n",
      "dropout_18 (Dropout)         (None, 128)               0         \n",
      "_________________________________________________________________\n",
      "dense_18 (Dense)             (None, 3)                 387       \n",
      "=================================================================\n",
      "Total params: 884,167\n",
      "Trainable params: 884,167\n",
      "Non-trainable params: 0\n",
      "_________________________________________________________________\n",
      "Epoch 1/15\n",
      "17/17 [==============================] - 6s 324ms/step - loss: 1.0799 - accuracy: 0.4331 - val_loss: 1.0076 - val_accuracy: 0.4812\n",
      "Epoch 2/15\n",
      "17/17 [==============================] - 5s 288ms/step - loss: 0.9794 - accuracy: 0.5104 - val_loss: 0.9659 - val_accuracy: 0.5188\n",
      "Epoch 3/15\n",
      "17/17 [==============================] - 5s 285ms/step - loss: 0.9023 - accuracy: 0.5499 - val_loss: 0.9197 - val_accuracy: 0.5338\n",
      "Epoch 4/15\n",
      "17/17 [==============================] - 5s 286ms/step - loss: 0.8171 - accuracy: 0.6328 - val_loss: 0.8988 - val_accuracy: 0.5263\n",
      "Epoch 5/15\n",
      "17/17 [==============================] - 5s 293ms/step - loss: 0.7296 - accuracy: 0.6911 - val_loss: 0.9487 - val_accuracy: 0.5038\n",
      "Epoch 6/15\n",
      "17/17 [==============================] - 5s 286ms/step - loss: 0.6052 - accuracy: 0.7514 - val_loss: 0.8737 - val_accuracy: 0.5489\n",
      "Epoch 7/15\n",
      "17/17 [==============================] - 5s 285ms/step - loss: 0.4555 - accuracy: 0.8606 - val_loss: 0.8742 - val_accuracy: 0.5564\n",
      "Epoch 8/15\n",
      "17/17 [==============================] - 5s 278ms/step - loss: 0.3236 - accuracy: 0.8964 - val_loss: 0.9954 - val_accuracy: 0.5414\n",
      "Epoch 9/15\n",
      "17/17 [==============================] - 5s 283ms/step - loss: 0.2091 - accuracy: 0.9473 - val_loss: 1.1218 - val_accuracy: 0.5263\n",
      "Epoch 10/15\n",
      "17/17 [==============================] - 5s 279ms/step - loss: 0.1591 - accuracy: 0.9492 - val_loss: 1.1785 - val_accuracy: 0.5263\n",
      "Epoch 11/15\n",
      "17/17 [==============================] - 5s 281ms/step - loss: 0.0950 - accuracy: 0.9774 - val_loss: 1.2768 - val_accuracy: 0.5564\n",
      "Epoch 12/15\n",
      "17/17 [==============================] - 5s 283ms/step - loss: 0.0712 - accuracy: 0.9812 - val_loss: 1.2905 - val_accuracy: 0.5113\n",
      "Epoch 13/15\n",
      "17/17 [==============================] - 5s 278ms/step - loss: 0.0795 - accuracy: 0.9831 - val_loss: 1.4138 - val_accuracy: 0.5414\n",
      "Epoch 14/15\n",
      "17/17 [==============================] - 5s 293ms/step - loss: 0.0752 - accuracy: 0.9812 - val_loss: 1.4739 - val_accuracy: 0.5338\n",
      "Epoch 15/15\n",
      "17/17 [==============================] - 5s 292ms/step - loss: 0.0624 - accuracy: 0.9868 - val_loss: 1.3934 - val_accuracy: 0.5639\n",
      "[[100  66  17]\n",
      " [ 22  32   4]\n",
      " [ 17   9  18]]\n"
     ]
    }
   ],
   "source": [
    "ST1 = StanceClassifierLSTM(emb_matrix2.shape[0], 3)\n",
    "ST1.built_model(1, emb_dimension, X_train2.shape[1], [emb_matrix2])\n",
    "ST1.get_modelsummary()\n",
    "ST1.fit_model(X_train2, Y_train2, X_val2, Y_val2, 15, 32)\n",
    "pred = ST1.predict_model(X_test2)\n",
    "ST1.display_results(Y_test2)"
   ]
  },
  {
   "cell_type": "code",
   "execution_count": 74,
   "metadata": {},
   "outputs": [
    {
     "name": "stdout",
     "output_type": "stream",
     "text": [
      "2106\n",
      "Model: \"sequential_23\"\n",
      "_________________________________________________________________\n",
      "Layer (type)                 Output Shape              Param #   \n",
      "=================================================================\n",
      "embedding_23 (Embedding)     (None, 300, 300)          631800    \n",
      "_________________________________________________________________\n",
      "spatial_dropout1d_19 (Spatia (None, 300, 300)          0         \n",
      "_________________________________________________________________\n",
      "bidirectional_19 (Bidirectio (None, 128)               186880    \n",
      "_________________________________________________________________\n",
      "dropout_19 (Dropout)         (None, 128)               0         \n",
      "_________________________________________________________________\n",
      "dense_19 (Dense)             (None, 3)                 387       \n",
      "=================================================================\n",
      "Total params: 819,067\n",
      "Trainable params: 819,067\n",
      "Non-trainable params: 0\n",
      "_________________________________________________________________\n",
      "Epoch 1/15\n",
      "16/16 [==============================] - 6s 404ms/step - loss: 1.0790 - accuracy: 0.4713 - val_loss: 0.9441 - val_accuracy: 0.6336\n",
      "Epoch 2/15\n",
      "16/16 [==============================] - 5s 303ms/step - loss: 0.9400 - accuracy: 0.5441 - val_loss: 0.8351 - val_accuracy: 0.5954\n",
      "Epoch 3/15\n",
      "16/16 [==============================] - 5s 308ms/step - loss: 0.8367 - accuracy: 0.5958 - val_loss: 0.7755 - val_accuracy: 0.6870\n",
      "Epoch 4/15\n",
      "16/16 [==============================] - 5s 301ms/step - loss: 0.7351 - accuracy: 0.6858 - val_loss: 0.6792 - val_accuracy: 0.7252\n",
      "Epoch 5/15\n",
      "16/16 [==============================] - 5s 297ms/step - loss: 0.5960 - accuracy: 0.7778 - val_loss: 0.6087 - val_accuracy: 0.7634\n",
      "Epoch 6/15\n",
      "16/16 [==============================] - 5s 295ms/step - loss: 0.4474 - accuracy: 0.8544 - val_loss: 0.5943 - val_accuracy: 0.7557\n",
      "Epoch 7/15\n",
      "16/16 [==============================] - 5s 296ms/step - loss: 0.3053 - accuracy: 0.9080 - val_loss: 0.6411 - val_accuracy: 0.7634\n",
      "Epoch 8/15\n",
      "16/16 [==============================] - 5s 303ms/step - loss: 0.2326 - accuracy: 0.9138 - val_loss: 0.6837 - val_accuracy: 0.7710\n",
      "Epoch 9/15\n",
      "16/16 [==============================] - 5s 303ms/step - loss: 0.1755 - accuracy: 0.9483 - val_loss: 0.6793 - val_accuracy: 0.7481\n",
      "Epoch 10/15\n",
      "16/16 [==============================] - 5s 307ms/step - loss: 0.1294 - accuracy: 0.9579 - val_loss: 0.7758 - val_accuracy: 0.6870\n",
      "Epoch 11/15\n",
      "16/16 [==============================] - 5s 299ms/step - loss: 0.0975 - accuracy: 0.9751 - val_loss: 0.7853 - val_accuracy: 0.7634\n",
      "Epoch 12/15\n",
      "16/16 [==============================] - 5s 296ms/step - loss: 0.0763 - accuracy: 0.9770 - val_loss: 0.8467 - val_accuracy: 0.7176\n",
      "Epoch 13/15\n",
      "16/16 [==============================] - 5s 303ms/step - loss: 0.0739 - accuracy: 0.9751 - val_loss: 0.8366 - val_accuracy: 0.7099\n",
      "Epoch 14/15\n",
      "16/16 [==============================] - 5s 301ms/step - loss: 0.0697 - accuracy: 0.9847 - val_loss: 0.9433 - val_accuracy: 0.6947\n",
      "Epoch 15/15\n",
      "16/16 [==============================] - 5s 300ms/step - loss: 0.0395 - accuracy: 0.9904 - val_loss: 0.8562 - val_accuracy: 0.7481\n",
      "[[115  26  48]\n",
      " [ 14  29   3]\n",
      " [ 10   5  30]]\n"
     ]
    }
   ],
   "source": [
    "ST2 = StanceClassifierLSTM(emb_matrix3.shape[0], 3)\n",
    "ST2.built_model(1, emb_dimension, X_train3.shape[1], [emb_matrix3])\n",
    "ST2.get_modelsummary()\n",
    "ST2.fit_model(X_train3, Y_train3, X_val3, Y_val3, 15, 33)\n",
    "pred = ST2.predict_model(X_test3)\n",
    "ST2.display_results(Y_test3)"
   ]
  },
  {
   "cell_type": "code",
   "execution_count": 75,
   "metadata": {},
   "outputs": [
    {
     "name": "stdout",
     "output_type": "stream",
     "text": [
      "1827\n",
      "Model: \"sequential_24\"\n",
      "_________________________________________________________________\n",
      "Layer (type)                 Output Shape              Param #   \n",
      "=================================================================\n",
      "embedding_24 (Embedding)     (None, 300, 300)          548100    \n",
      "_________________________________________________________________\n",
      "spatial_dropout1d_20 (Spatia (None, 300, 300)          0         \n",
      "_________________________________________________________________\n",
      "bidirectional_20 (Bidirectio (None, 128)               186880    \n",
      "_________________________________________________________________\n",
      "dropout_20 (Dropout)         (None, 128)               0         \n",
      "_________________________________________________________________\n",
      "dense_20 (Dense)             (None, 3)                 387       \n",
      "=================================================================\n",
      "Total params: 735,367\n",
      "Trainable params: 735,367\n",
      "Non-trainable params: 0\n",
      "_________________________________________________________________\n",
      "Epoch 1/15\n",
      "13/13 [==============================] - 4s 325ms/step - loss: 1.0271 - accuracy: 0.5683 - val_loss: 0.9574 - val_accuracy: 0.5243\n",
      "Epoch 2/15\n",
      "13/13 [==============================] - 4s 274ms/step - loss: 0.8753 - accuracy: 0.6171 - val_loss: 0.9230 - val_accuracy: 0.5243\n",
      "Epoch 3/15\n",
      "13/13 [==============================] - 4s 277ms/step - loss: 0.7608 - accuracy: 0.6341 - val_loss: 0.8459 - val_accuracy: 0.5631\n",
      "Epoch 4/15\n",
      "13/13 [==============================] - 4s 282ms/step - loss: 0.6578 - accuracy: 0.7195 - val_loss: 0.7951 - val_accuracy: 0.6019\n",
      "Epoch 5/15\n",
      "13/13 [==============================] - 4s 283ms/step - loss: 0.5445 - accuracy: 0.8024 - val_loss: 0.7421 - val_accuracy: 0.7087\n",
      "Epoch 6/15\n",
      "13/13 [==============================] - 4s 285ms/step - loss: 0.4353 - accuracy: 0.8366 - val_loss: 0.7414 - val_accuracy: 0.6893\n",
      "Epoch 7/15\n",
      "13/13 [==============================] - 4s 299ms/step - loss: 0.3335 - accuracy: 0.8927 - val_loss: 0.7242 - val_accuracy: 0.7087\n",
      "Epoch 8/15\n",
      "13/13 [==============================] - 4s 286ms/step - loss: 0.2365 - accuracy: 0.9293 - val_loss: 0.7728 - val_accuracy: 0.6990\n",
      "Epoch 9/15\n",
      "13/13 [==============================] - 4s 291ms/step - loss: 0.1564 - accuracy: 0.9537 - val_loss: 0.7531 - val_accuracy: 0.6990\n",
      "Epoch 10/15\n",
      "13/13 [==============================] - 4s 284ms/step - loss: 0.1131 - accuracy: 0.9756 - val_loss: 0.9485 - val_accuracy: 0.6505\n",
      "Epoch 11/15\n",
      "13/13 [==============================] - 4s 282ms/step - loss: 0.0664 - accuracy: 0.9902 - val_loss: 0.7880 - val_accuracy: 0.6990\n",
      "Epoch 12/15\n",
      "13/13 [==============================] - 4s 289ms/step - loss: 0.0543 - accuracy: 0.9878 - val_loss: 0.8903 - val_accuracy: 0.6796\n",
      "Epoch 13/15\n",
      "13/13 [==============================] - 4s 291ms/step - loss: 0.0418 - accuracy: 0.9902 - val_loss: 0.9147 - val_accuracy: 0.6699\n",
      "Epoch 14/15\n",
      "13/13 [==============================] - 4s 287ms/step - loss: 0.0324 - accuracy: 0.9927 - val_loss: 0.9385 - val_accuracy: 0.6602\n",
      "Epoch 15/15\n",
      "13/13 [==============================] - 4s 289ms/step - loss: 0.0312 - accuracy: 0.9927 - val_loss: 0.9857 - val_accuracy: 0.6699\n",
      "[[134  12  14]\n",
      " [ 22   7   3]\n",
      " [ 11   1  16]]\n"
     ]
    }
   ],
   "source": [
    "ST3 = StanceClassifierLSTM(emb_matrix4.shape[0], 3)\n",
    "ST3.built_model(1, emb_dimension, X_train4.shape[1], [emb_matrix4])\n",
    "ST3.get_modelsummary()\n",
    "ST3.fit_model(X_train4, Y_train4, X_val4, Y_val4, 15, 33)\n",
    "pred = ST3.predict_model(X_test4)\n",
    "ST3.display_results(Y_test4)"
   ]
  },
  {
   "cell_type": "code",
   "execution_count": 76,
   "metadata": {},
   "outputs": [
    {
     "name": "stdout",
     "output_type": "stream",
     "text": [
      "1710\n",
      "Model: \"sequential_25\"\n",
      "_________________________________________________________________\n",
      "Layer (type)                 Output Shape              Param #   \n",
      "=================================================================\n",
      "embedding_25 (Embedding)     (None, 300, 300)          513000    \n",
      "_________________________________________________________________\n",
      "spatial_dropout1d_21 (Spatia (None, 300, 300)          0         \n",
      "_________________________________________________________________\n",
      "bidirectional_21 (Bidirectio (None, 128)               186880    \n",
      "_________________________________________________________________\n",
      "dropout_21 (Dropout)         (None, 128)               0         \n",
      "_________________________________________________________________\n",
      "dense_21 (Dense)             (None, 3)                 387       \n",
      "=================================================================\n",
      "Total params: 700,267\n",
      "Trainable params: 700,267\n",
      "Non-trainable params: 0\n",
      "_________________________________________________________________\n",
      "Epoch 1/15\n",
      "10/10 [==============================] - 4s 401ms/step - loss: 0.9344 - accuracy: 0.4937 - val_loss: 0.9571 - val_accuracy: 0.4430\n",
      "Epoch 2/15\n",
      "10/10 [==============================] - 3s 264ms/step - loss: 0.7715 - accuracy: 0.6203 - val_loss: 0.8233 - val_accuracy: 0.6582\n",
      "Epoch 3/15\n",
      "10/10 [==============================] - 3s 268ms/step - loss: 0.7155 - accuracy: 0.6677 - val_loss: 0.7419 - val_accuracy: 0.7215\n",
      "Epoch 4/15\n",
      "10/10 [==============================] - 3s 271ms/step - loss: 0.6186 - accuracy: 0.7215 - val_loss: 0.6984 - val_accuracy: 0.7215\n",
      "Epoch 5/15\n",
      "10/10 [==============================] - 3s 272ms/step - loss: 0.5400 - accuracy: 0.8196 - val_loss: 0.6733 - val_accuracy: 0.7342\n",
      "Epoch 6/15\n",
      "10/10 [==============================] - 3s 278ms/step - loss: 0.4258 - accuracy: 0.8639 - val_loss: 0.6769 - val_accuracy: 0.7215\n",
      "Epoch 7/15\n",
      "10/10 [==============================] - 3s 291ms/step - loss: 0.3632 - accuracy: 0.8671 - val_loss: 0.6791 - val_accuracy: 0.7342\n",
      "Epoch 8/15\n",
      "10/10 [==============================] - 3s 290ms/step - loss: 0.3038 - accuracy: 0.9019 - val_loss: 0.6816 - val_accuracy: 0.7722\n",
      "Epoch 9/15\n",
      "10/10 [==============================] - 3s 289ms/step - loss: 0.1880 - accuracy: 0.9525 - val_loss: 0.6955 - val_accuracy: 0.7342\n",
      "Epoch 10/15\n",
      "10/10 [==============================] - 3s 292ms/step - loss: 0.1580 - accuracy: 0.9525 - val_loss: 0.7386 - val_accuracy: 0.7722\n",
      "Epoch 11/15\n",
      "10/10 [==============================] - 3s 286ms/step - loss: 0.1171 - accuracy: 0.9747 - val_loss: 0.7455 - val_accuracy: 0.7595\n",
      "Epoch 12/15\n",
      "10/10 [==============================] - 3s 279ms/step - loss: 0.0762 - accuracy: 0.9747 - val_loss: 0.7902 - val_accuracy: 0.7722\n",
      "Epoch 13/15\n",
      "10/10 [==============================] - 3s 280ms/step - loss: 0.0671 - accuracy: 0.9778 - val_loss: 0.8329 - val_accuracy: 0.7468\n",
      "Epoch 14/15\n",
      "10/10 [==============================] - 3s 288ms/step - loss: 0.0543 - accuracy: 0.9810 - val_loss: 0.8669 - val_accuracy: 0.7595\n",
      "Epoch 15/15\n",
      "10/10 [==============================] - 3s 287ms/step - loss: 0.0495 - accuracy: 0.9905 - val_loss: 0.8843 - val_accuracy: 0.7722\n",
      "[[ 0  7  4]\n",
      " [ 0 82 41]\n",
      " [ 0  9 26]]\n"
     ]
    }
   ],
   "source": [
    "ST4 = StanceClassifierLSTM(emb_matrix5.shape[0], 3)\n",
    "ST4.built_model(1, emb_dimension, X_train5.shape[1], [emb_matrix5])\n",
    "ST4.get_modelsummary()\n",
    "ST4.fit_model(X_train5, Y_train5, X_val5, Y_val5, 15, 33)\n",
    "pred = ST4.predict_model(X_test5)\n",
    "ST4.display_results(Y_test5)"
   ]
  }
 ],
 "metadata": {
  "kernelspec": {
   "display_name": "Python 3",
   "language": "python",
   "name": "python3"
  },
  "language_info": {
   "codemirror_mode": {
    "name": "ipython",
    "version": 3
   },
   "file_extension": ".py",
   "mimetype": "text/x-python",
   "name": "python",
   "nbconvert_exporter": "python",
   "pygments_lexer": "ipython3",
   "version": "3.7.6"
  }
 },
 "nbformat": 4,
 "nbformat_minor": 4
}
